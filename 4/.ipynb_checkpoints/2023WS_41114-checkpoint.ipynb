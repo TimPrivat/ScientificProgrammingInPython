{
 "cells": [
  {
   "cell_type": "markdown",
   "id": "c1dac180-7c4a-481b-8894-ff6304a1bb7a",
   "metadata": {},
   "source": [
    "2023WS_41114"
   ]
  },
  {
   "cell_type": "markdown",
   "id": "68c885a8-1092-486f-9527-428f6b145eae",
   "metadata": {},
   "source": [
    "<h1><strong>Assignement 4</strong></h1>"
   ]
  },
  {
   "cell_type": "markdown",
   "id": "19d4aaca-cb40-4142-a033-e058209242d7",
   "metadata": {},
   "source": [
    "<h3>Goal</h3>\n",
    "In this assignment we learn about the Yang equation[1], which is an alternative to the Lennard-Jones equation[2] to determine the nonbound energy between two atoms. We read in a given datasheet and use its data to determine the energy between two atoms according to both formulas.\n",
    "After that we plot our results in graph and save them to a csv file."
   ]
  },
  {
   "cell_type": "markdown",
   "id": "94d94299-2393-4b07-8a29-a8386359cf88",
   "metadata": {},
   "source": [
    "<h3>Task 1</h3>"
   ]
  },
  {
   "cell_type": "markdown",
   "id": "fcecc814-868c-4ebd-a743-10a9e944806c",
   "metadata": {},
   "source": [
    "<p>In this Task we extract data from the given file CybulskiT1999_Ar2.csv. <br>\n",
    "We safe this data into a pandas dataframe and normalize it by removing duplicates and missing data entries. <br>\n",
    "Finally we convert the potential energy V(r) from the given unit Hartree to the International Unit of Energy kJ/mol.\n",
    "</p>\n"
   ]
  },
  {
   "cell_type": "markdown",
   "id": "f35f93e4-e5d8-480d-906a-ce414616a187",
   "metadata": {},
   "source": [
    "<h4>Libraries</h4>\n",
    "<p>For this we first have to import the required python libraries:</p>"
   ]
  },
  {
   "cell_type": "code",
   "execution_count": 1,
   "id": "028a61a9-c502-4c88-a5f3-9eb9b6c979c3",
   "metadata": {},
   "outputs": [],
   "source": [
    "import math #[3]\n",
    "import pandas as pd #[4] "
   ]
  },
  {
   "cell_type": "markdown",
   "id": "346dde3e-3ca6-4934-bf96-45944e22bab5",
   "metadata": {},
   "source": [
    "<h4>Data import and normalization</h4>\n",
    "<p>Now we can import the data from CybulskiT1999_Ar2.csv[5] and safe it to a pandas dataframe labelled raw_dataframe:</p>"
   ]
  },
  {
   "cell_type": "code",
   "execution_count": 2,
   "id": "73209f39-feb5-4375-bb3a-b375ccc39e3d",
   "metadata": {},
   "outputs": [
    {
     "data": {
      "text/html": [
       "<div>\n",
       "<style scoped>\n",
       "    .dataframe tbody tr th:only-of-type {\n",
       "        vertical-align: middle;\n",
       "    }\n",
       "\n",
       "    .dataframe tbody tr th {\n",
       "        vertical-align: top;\n",
       "    }\n",
       "\n",
       "    .dataframe thead th {\n",
       "        text-align: right;\n",
       "    }\n",
       "</style>\n",
       "<table border=\"1\" class=\"dataframe\">\n",
       "  <thead>\n",
       "    <tr style=\"text-align: right;\">\n",
       "      <th></th>\n",
       "      <th>R (Å)</th>\n",
       "      <th>V(r) (Hartree)</th>\n",
       "    </tr>\n",
       "  </thead>\n",
       "  <tbody>\n",
       "    <tr>\n",
       "      <th>0</th>\n",
       "      <td>3.000</td>\n",
       "      <td>0.003055</td>\n",
       "    </tr>\n",
       "    <tr>\n",
       "      <th>1</th>\n",
       "      <td>3.250</td>\n",
       "      <td>0.000518</td>\n",
       "    </tr>\n",
       "    <tr>\n",
       "      <th>2</th>\n",
       "      <td>3.500</td>\n",
       "      <td>-0.000279</td>\n",
       "    </tr>\n",
       "    <tr>\n",
       "      <th>3</th>\n",
       "      <td>3.500</td>\n",
       "      <td>-0.000279</td>\n",
       "    </tr>\n",
       "    <tr>\n",
       "      <th>4</th>\n",
       "      <td>3.600</td>\n",
       "      <td>NaN</td>\n",
       "    </tr>\n",
       "    <tr>\n",
       "      <th>5</th>\n",
       "      <td>3.750</td>\n",
       "      <td>-0.000441</td>\n",
       "    </tr>\n",
       "    <tr>\n",
       "      <th>6</th>\n",
       "      <td>3.775</td>\n",
       "      <td>-0.000442</td>\n",
       "    </tr>\n",
       "    <tr>\n",
       "      <th>7</th>\n",
       "      <td>3.800</td>\n",
       "      <td>-0.000441</td>\n",
       "    </tr>\n",
       "    <tr>\n",
       "      <th>8</th>\n",
       "      <td>3.850</td>\n",
       "      <td>-0.000436</td>\n",
       "    </tr>\n",
       "    <tr>\n",
       "      <th>9</th>\n",
       "      <td>3.950</td>\n",
       "      <td>NaN</td>\n",
       "    </tr>\n",
       "    <tr>\n",
       "      <th>10</th>\n",
       "      <td>4.000</td>\n",
       "      <td>-0.000400</td>\n",
       "    </tr>\n",
       "    <tr>\n",
       "      <th>11</th>\n",
       "      <td>4.250</td>\n",
       "      <td>-0.000313</td>\n",
       "    </tr>\n",
       "    <tr>\n",
       "      <th>12</th>\n",
       "      <td>4.500</td>\n",
       "      <td>-0.000232</td>\n",
       "    </tr>\n",
       "    <tr>\n",
       "      <th>13</th>\n",
       "      <td>5.000</td>\n",
       "      <td>-0.000123</td>\n",
       "    </tr>\n",
       "    <tr>\n",
       "      <th>14</th>\n",
       "      <td>5.000</td>\n",
       "      <td>-0.000123</td>\n",
       "    </tr>\n",
       "    <tr>\n",
       "      <th>15</th>\n",
       "      <td>6.000</td>\n",
       "      <td>-0.000038</td>\n",
       "    </tr>\n",
       "    <tr>\n",
       "      <th>16</th>\n",
       "      <td>7.000</td>\n",
       "      <td>-0.000014</td>\n",
       "    </tr>\n",
       "  </tbody>\n",
       "</table>\n",
       "</div>"
      ],
      "text/plain": [
       "    R (Å)  V(r) (Hartree)\n",
       "0   3.000        0.003055\n",
       "1   3.250        0.000518\n",
       "2   3.500       -0.000279\n",
       "3   3.500       -0.000279\n",
       "4   3.600             NaN\n",
       "5   3.750       -0.000441\n",
       "6   3.775       -0.000442\n",
       "7   3.800       -0.000441\n",
       "8   3.850       -0.000436\n",
       "9   3.950             NaN\n",
       "10  4.000       -0.000400\n",
       "11  4.250       -0.000313\n",
       "12  4.500       -0.000232\n",
       "13  5.000       -0.000123\n",
       "14  5.000       -0.000123\n",
       "15  6.000       -0.000038\n",
       "16  7.000       -0.000014"
      ]
     },
     "execution_count": 2,
     "metadata": {},
     "output_type": "execute_result"
    }
   ],
   "source": [
    "#import CybulskiT1999_Ar2.csv\n",
    "raw_dataframe = pd.read_csv(\"CybulskiT1999_Ar2.csv\",delimiter=\";\")\n",
    "raw_dataframe"
   ]
  },
  {
   "cell_type": "markdown",
   "id": "f1358223-ff85-4301-ab86-b7d502867b74",
   "metadata": {},
   "source": [
    "<p>As can be seen in the output above the data still contains duplicate entries and entries with missing data. <br>\n",
    "We remove these entries with pandas builtin functions drop_duplicates() and dropna() and save the resulting dataframe to normalized_dataframe.</p>"
   ]
  },
  {
   "cell_type": "code",
   "execution_count": 3,
   "id": "41c3d37c-8e14-4d1c-9103-b09e10cf67cc",
   "metadata": {},
   "outputs": [
    {
     "data": {
      "text/html": [
       "<div>\n",
       "<style scoped>\n",
       "    .dataframe tbody tr th:only-of-type {\n",
       "        vertical-align: middle;\n",
       "    }\n",
       "\n",
       "    .dataframe tbody tr th {\n",
       "        vertical-align: top;\n",
       "    }\n",
       "\n",
       "    .dataframe thead th {\n",
       "        text-align: right;\n",
       "    }\n",
       "</style>\n",
       "<table border=\"1\" class=\"dataframe\">\n",
       "  <thead>\n",
       "    <tr style=\"text-align: right;\">\n",
       "      <th></th>\n",
       "      <th>R (Å)</th>\n",
       "      <th>V(r) (Hartree)</th>\n",
       "    </tr>\n",
       "  </thead>\n",
       "  <tbody>\n",
       "    <tr>\n",
       "      <th>0</th>\n",
       "      <td>3.000</td>\n",
       "      <td>0.003055</td>\n",
       "    </tr>\n",
       "    <tr>\n",
       "      <th>1</th>\n",
       "      <td>3.250</td>\n",
       "      <td>0.000518</td>\n",
       "    </tr>\n",
       "    <tr>\n",
       "      <th>2</th>\n",
       "      <td>3.500</td>\n",
       "      <td>-0.000279</td>\n",
       "    </tr>\n",
       "    <tr>\n",
       "      <th>3</th>\n",
       "      <td>3.750</td>\n",
       "      <td>-0.000441</td>\n",
       "    </tr>\n",
       "    <tr>\n",
       "      <th>4</th>\n",
       "      <td>3.775</td>\n",
       "      <td>-0.000442</td>\n",
       "    </tr>\n",
       "    <tr>\n",
       "      <th>5</th>\n",
       "      <td>3.800</td>\n",
       "      <td>-0.000441</td>\n",
       "    </tr>\n",
       "    <tr>\n",
       "      <th>6</th>\n",
       "      <td>3.850</td>\n",
       "      <td>-0.000436</td>\n",
       "    </tr>\n",
       "    <tr>\n",
       "      <th>7</th>\n",
       "      <td>4.000</td>\n",
       "      <td>-0.000400</td>\n",
       "    </tr>\n",
       "    <tr>\n",
       "      <th>8</th>\n",
       "      <td>4.250</td>\n",
       "      <td>-0.000313</td>\n",
       "    </tr>\n",
       "    <tr>\n",
       "      <th>9</th>\n",
       "      <td>4.500</td>\n",
       "      <td>-0.000232</td>\n",
       "    </tr>\n",
       "    <tr>\n",
       "      <th>10</th>\n",
       "      <td>5.000</td>\n",
       "      <td>-0.000123</td>\n",
       "    </tr>\n",
       "    <tr>\n",
       "      <th>11</th>\n",
       "      <td>6.000</td>\n",
       "      <td>-0.000038</td>\n",
       "    </tr>\n",
       "    <tr>\n",
       "      <th>12</th>\n",
       "      <td>7.000</td>\n",
       "      <td>-0.000014</td>\n",
       "    </tr>\n",
       "  </tbody>\n",
       "</table>\n",
       "</div>"
      ],
      "text/plain": [
       "    R (Å)  V(r) (Hartree)\n",
       "0   3.000        0.003055\n",
       "1   3.250        0.000518\n",
       "2   3.500       -0.000279\n",
       "3   3.750       -0.000441\n",
       "4   3.775       -0.000442\n",
       "5   3.800       -0.000441\n",
       "6   3.850       -0.000436\n",
       "7   4.000       -0.000400\n",
       "8   4.250       -0.000313\n",
       "9   4.500       -0.000232\n",
       "10  5.000       -0.000123\n",
       "11  6.000       -0.000038\n",
       "12  7.000       -0.000014"
      ]
     },
     "execution_count": 3,
     "metadata": {},
     "output_type": "execute_result"
    }
   ],
   "source": [
    "#remove duplicate values\n",
    "normalized_dataframe = raw_dataframe.drop_duplicates(ignore_index=True) \n",
    "#remove empty values\n",
    "normalized_dataframe = normalized_dataframe.dropna(ignore_index=True) \n",
    "\n",
    "normalized_dataframe"
   ]
  },
  {
   "cell_type": "markdown",
   "id": "d64b44ed-c053-437e-a234-5659d99fbd0e",
   "metadata": {},
   "source": [
    "<p>Now we have a normalized dataframe, we need to convert the provided unit for the potential energy which is Hartree to the International Unit for Energy which is kJ/mol.<br>\n",
    "The conversion formula[6] is as follows:</p>\n",
    "$$ 1 \\frac{kJ}{mol}=1Hartree*2625.5$$\n",
    "<br>\n",
    "We add another column to our dataframe which holds the converted value. We label it \"V(r) (kJ/mol)\" and save it to an new dataframe labelled kJ_dataframe."
   ]
  },
  {
   "cell_type": "code",
   "execution_count": 4,
   "id": "71b20190-d429-49ba-be22-253a775ac415",
   "metadata": {},
   "outputs": [
    {
     "data": {
      "text/html": [
       "<div>\n",
       "<style scoped>\n",
       "    .dataframe tbody tr th:only-of-type {\n",
       "        vertical-align: middle;\n",
       "    }\n",
       "\n",
       "    .dataframe tbody tr th {\n",
       "        vertical-align: top;\n",
       "    }\n",
       "\n",
       "    .dataframe thead th {\n",
       "        text-align: right;\n",
       "    }\n",
       "</style>\n",
       "<table border=\"1\" class=\"dataframe\">\n",
       "  <thead>\n",
       "    <tr style=\"text-align: right;\">\n",
       "      <th></th>\n",
       "      <th>R (Å)</th>\n",
       "      <th>V(r) (Hartree)</th>\n",
       "      <th>V(r) (kJ/mol)</th>\n",
       "    </tr>\n",
       "  </thead>\n",
       "  <tbody>\n",
       "    <tr>\n",
       "      <th>0</th>\n",
       "      <td>3.000</td>\n",
       "      <td>0.003055</td>\n",
       "      <td>8.020850</td>\n",
       "    </tr>\n",
       "    <tr>\n",
       "      <th>1</th>\n",
       "      <td>3.250</td>\n",
       "      <td>0.000518</td>\n",
       "      <td>1.360298</td>\n",
       "    </tr>\n",
       "    <tr>\n",
       "      <th>2</th>\n",
       "      <td>3.500</td>\n",
       "      <td>-0.000279</td>\n",
       "      <td>-0.732462</td>\n",
       "    </tr>\n",
       "    <tr>\n",
       "      <th>3</th>\n",
       "      <td>3.750</td>\n",
       "      <td>-0.000441</td>\n",
       "      <td>-1.157373</td>\n",
       "    </tr>\n",
       "    <tr>\n",
       "      <th>4</th>\n",
       "      <td>3.775</td>\n",
       "      <td>-0.000442</td>\n",
       "      <td>-1.160130</td>\n",
       "    </tr>\n",
       "    <tr>\n",
       "      <th>5</th>\n",
       "      <td>3.800</td>\n",
       "      <td>-0.000441</td>\n",
       "      <td>-1.158686</td>\n",
       "    </tr>\n",
       "    <tr>\n",
       "      <th>6</th>\n",
       "      <td>3.850</td>\n",
       "      <td>-0.000436</td>\n",
       "      <td>-1.145269</td>\n",
       "    </tr>\n",
       "    <tr>\n",
       "      <th>7</th>\n",
       "      <td>4.000</td>\n",
       "      <td>-0.000400</td>\n",
       "      <td>-1.049150</td>\n",
       "    </tr>\n",
       "    <tr>\n",
       "      <th>8</th>\n",
       "      <td>4.250</td>\n",
       "      <td>-0.000313</td>\n",
       "      <td>-0.822097</td>\n",
       "    </tr>\n",
       "    <tr>\n",
       "      <th>9</th>\n",
       "      <td>4.500</td>\n",
       "      <td>-0.000232</td>\n",
       "      <td>-0.609904</td>\n",
       "    </tr>\n",
       "    <tr>\n",
       "      <th>10</th>\n",
       "      <td>5.000</td>\n",
       "      <td>-0.000123</td>\n",
       "      <td>-0.322831</td>\n",
       "    </tr>\n",
       "    <tr>\n",
       "      <th>11</th>\n",
       "      <td>6.000</td>\n",
       "      <td>-0.000038</td>\n",
       "      <td>-0.099165</td>\n",
       "    </tr>\n",
       "    <tr>\n",
       "      <th>12</th>\n",
       "      <td>7.000</td>\n",
       "      <td>-0.000014</td>\n",
       "      <td>-0.036836</td>\n",
       "    </tr>\n",
       "  </tbody>\n",
       "</table>\n",
       "</div>"
      ],
      "text/plain": [
       "    R (Å)  V(r) (Hartree)  V(r) (kJ/mol)\n",
       "0   3.000        0.003055       8.020850\n",
       "1   3.250        0.000518       1.360298\n",
       "2   3.500       -0.000279      -0.732462\n",
       "3   3.750       -0.000441      -1.157373\n",
       "4   3.775       -0.000442      -1.160130\n",
       "5   3.800       -0.000441      -1.158686\n",
       "6   3.850       -0.000436      -1.145269\n",
       "7   4.000       -0.000400      -1.049150\n",
       "8   4.250       -0.000313      -0.822097\n",
       "9   4.500       -0.000232      -0.609904\n",
       "10  5.000       -0.000123      -0.322831\n",
       "11  6.000       -0.000038      -0.099165\n",
       "12  7.000       -0.000014      -0.036836"
      ]
     },
     "execution_count": 4,
     "metadata": {},
     "output_type": "execute_result"
    }
   ],
   "source": [
    "#Convert Hartree to kJ/mol\n",
    "kJ_dataframe=normalized_dataframe\n",
    "kJ_dataframe[\"V(r) (kJ/mol)\"]=kJ_dataframe[\"V(r) (Hartree)\"].multiply(2625.5)\n",
    "\n",
    "kJ_dataframe"
   ]
  },
  {
   "cell_type": "markdown",
   "id": "2eca3ff8-d578-484e-abba-3de82e2f23db",
   "metadata": {},
   "source": [
    "<h3>Task 2</h3>\n",
    "<p>In task 2 we implement the Lennard-Jones equation and the Yang equation and compute our dataframe with both formulas.</p>\n"
   ]
  },
  {
   "cell_type": "markdown",
   "id": "386afed4-a50e-4206-aa89-0a1e55255c74",
   "metadata": {},
   "source": [
    "<h4>Lennard-Jones Equation</h4>\n",
    "<p>The Lennard-Jones equation is our first equation. It is used to calculate the nonbound potential energy between two atoms. <br>\n",
    "It is defined as follows[7]:\n",
    "\n",
    "</p>\n",
    "$$\\mathrm{V}_{LJ}^{}(r)=4\\varepsilon\\left[ \\left( \\frac{\\sigma}{r} \\right)^{12} - [ \\left( \\frac{\\sigma}{r} \\right)^{6} \\right]$$"
   ]
  },
  {
   "cell_type": "code",
   "execution_count": 14,
   "id": "a2bb692b-43ef-4480-a82f-2f84edb8daee",
   "metadata": {},
   "outputs": [],
   "source": [
    "def lennardJonesEquation(distance,sigma,episilon) -> float:\n",
    "    \"\"\"This function calcuates the potential energy between two atoms in kJ/mol (kiloJoule / mol)\n",
    "        using the Lennard-Jones equation.\n",
    "    :param distance: float, distance between the two atoms in Å (Arngstrom)\n",
    "    :param sigma: float, distance at which point the intermolecular potential \n",
    "                         between the two atoms is zero Å (Arngstrom)\n",
    "    :param epsilon: float, the well depth between two atoms and a measure how strongly\n",
    "                            they attract each other kJ/mol (kiloJoule / mol)\n",
    "   \n",
    "    :return: float, the potential energy between the two atoms in kJ/mol (kiloJoule / mol)\n",
    "    \"\"\"\n",
    "    #Typechecks\n",
    "    if not isinstance(distance, float):\n",
    "        raise TypeError('You did not specify a floatvalue for the distance')\n",
    "    if not isinstance(sigma, float):\n",
    "        raise TypeError('You did not specify a floatvalue for sigma')\n",
    "    if not isinstance(epsilon, float):\n",
    "        raise TypeError('You did not specify a floatvalue for epsilon')\n",
    "                        \n",
    "    potentialEnergy = 4 * epsilon * ((sigma/distance) ** 12 - (sigma/distance) ** 6)\n",
    "    return potentialEnergy"
   ]
  },
  {
   "cell_type": "markdown",
   "id": "8a38f183-cafa-4409-af7f-f0a0c9df8e99",
   "metadata": {},
   "source": [
    "<h4>Yang Equation</h4>\n",
    "<p>The Yang equation also calculates the nonbound potential energy between two atoms. It was discovered in 2020 and is more complex than the Lennard-Jones eqauation but promises to be more robust and more accurate.\n",
    "<br> It is defined as follows:</p>\n",
    "$$\\mathrm{V}_{Exp}^{}(r)=\\varepsilon\\left[ e^{\\alpha(1-\\frac{r}{\\sigma})} -\\left( \\left(  \\frac{r}{\\sigma}\\right)^{4} -2 \\left( \\frac{r}{\\sigma}\\right)^{2}+3\\right)e^{ \\left( \\frac{\\alpha}{2} \\right)\\left( 1-\\frac{r}{\\sigma} \\right) } \\right]$$"
   ]
  },
  {
   "cell_type": "code",
   "execution_count": 6,
   "id": "540e2195-afb9-4f4f-a95e-f044e6112c83",
   "metadata": {},
   "outputs": [],
   "source": [
    "def potential_energy_Yang(epsilon,sigma, radius, alpha) -> float:\n",
    "    \"\"\"This function calcuates the potential energy between two atoms in kJ/mol (kiloJoule / mol)\n",
    "        unsing the Yang Equation.\n",
    "    :param radius: float, distance between the two atoms in Å (Arngstrom)\n",
    "    :param sigma: float, distance at which point the intermolecular potential\n",
    "                         between the two atoms is zero Å\n",
    "    :param epislon: float, the well depth between two atoms and a measure\n",
    "                            how strongly they attract each other kJ/mol (kiloJoule / mol)\n",
    "    :param alpha: float,  weighing factor to control to control the influence of exponential terms  \n",
    "   \n",
    "    :return: float, the potential energy between the two atoms in kJ/mol (kiloJoule / mol)\n",
    "    \"\"\"\n",
    "    #Typechecks\n",
    "    if not isinstance(epsilon, float):\n",
    "        raise TypeError('You must provide epsilon as a float value')\n",
    "    elif not isinstance(sigma, float):\n",
    "        raise TypeError('You must provide sigma as a float value')\n",
    "    elif not isinstance(radius, float):\n",
    "        raise TypeError('You must provide radius as a float value')\n",
    "    elif not isinstance(alpha, float):\n",
    "        raise TypeError('You must provide alpha as a float value')\n",
    "  \n",
    "       \n",
    "    result = epsilon * (math.exp( \\\n",
    "        alpha * (1 - (radius/sigma))) - ((radius/sigma)**4 - 2 * (radius/sigma)**2 +3) * \\\n",
    "        math.exp((alpha/2)*(1-(radius/sigma))))\n",
    "    \n",
    "    return result"
   ]
  },
  {
   "cell_type": "markdown",
   "id": "6b356869-654b-47e8-ae68-d0ab4c14b8cf",
   "metadata": {},
   "source": [
    "<p>Now we have python functions for both equations.</p>"
   ]
  },
  {
   "cell_type": "markdown",
   "id": "a1bb91ea-5595-418f-863c-0b65a793664e",
   "metadata": {},
   "source": [
    "<h4>Project specific constants</h4>\n",
    "<p>To compute both the Lennard-Jones and the Yang functions we need values for σ,α and ε. These values were provided in the assignment sheet and we define the following constants: </p>\n",
    "\n",
    "$$α=13.18$$\n",
    "$$σ=3.75Å$$\n",
    "$$ε=1.178eV$$\n"
   ]
  },
  {
   "cell_type": "code",
   "execution_count": 7,
   "id": "4b41bf44-6d88-44bb-8411-0b17a248c097",
   "metadata": {},
   "outputs": [],
   "source": [
    "alpha = 13.18\n",
    "sigma = 3.75 # Å (Arngstrom)\n",
    "epsilon = 1.178 # eV (electronvolt)"
   ]
  },
  {
   "cell_type": "markdown",
   "id": "41aaf02c-b7bd-4028-b8df-8b54cd590bc8",
   "metadata": {},
   "source": [
    "<h4>Computing the values</h4>\n",
    "<p>After defining those constants we can compute the values in our dataframe with both the Yang and the Lennard-Jones functions. <br>\n",
    "We add the results into a new column in our dataframe labelled Lennard-Jones and Yang for their respective functions:</p>"
   ]
  },
  {
   "cell_type": "code",
   "execution_count": 13,
   "id": "7e191318-2391-483b-a372-f815424e7ed8",
   "metadata": {},
   "outputs": [
    {
     "data": {
      "text/html": [
       "<div>\n",
       "<style scoped>\n",
       "    .dataframe tbody tr th:only-of-type {\n",
       "        vertical-align: middle;\n",
       "    }\n",
       "\n",
       "    .dataframe tbody tr th {\n",
       "        vertical-align: top;\n",
       "    }\n",
       "\n",
       "    .dataframe thead th {\n",
       "        text-align: right;\n",
       "    }\n",
       "</style>\n",
       "<table border=\"1\" class=\"dataframe\">\n",
       "  <thead>\n",
       "    <tr style=\"text-align: right;\">\n",
       "      <th></th>\n",
       "      <th>R (Å)</th>\n",
       "      <th>V(r) (Hartree)</th>\n",
       "      <th>V(r) (kJ/mol)</th>\n",
       "      <th>V(r) LennardJones</th>\n",
       "      <th>V(r) Yang</th>\n",
       "    </tr>\n",
       "  </thead>\n",
       "  <tbody>\n",
       "    <tr>\n",
       "      <th>0</th>\n",
       "      <td>3.000</td>\n",
       "      <td>0.003055</td>\n",
       "      <td>8.020850</td>\n",
       "      <td>50.593771</td>\n",
       "      <td>7.069414</td>\n",
       "    </tr>\n",
       "    <tr>\n",
       "      <th>1</th>\n",
       "      <td>3.250</td>\n",
       "      <td>0.000518</td>\n",
       "      <td>1.360298</td>\n",
       "      <td>15.121296</td>\n",
       "      <td>0.980612</td>\n",
       "    </tr>\n",
       "    <tr>\n",
       "      <th>2</th>\n",
       "      <td>3.500</td>\n",
       "      <td>-0.000279</td>\n",
       "      <td>-0.732462</td>\n",
       "      <td>3.655327</td>\n",
       "      <td>-0.849850</td>\n",
       "    </tr>\n",
       "    <tr>\n",
       "      <th>3</th>\n",
       "      <td>3.750</td>\n",
       "      <td>-0.000441</td>\n",
       "      <td>-1.157373</td>\n",
       "      <td>0.000000</td>\n",
       "      <td>-1.178000</td>\n",
       "    </tr>\n",
       "    <tr>\n",
       "      <th>4</th>\n",
       "      <td>3.775</td>\n",
       "      <td>-0.000442</td>\n",
       "      <td>-1.160130</td>\n",
       "      <td>-0.176962</td>\n",
       "      <td>-1.176025</td>\n",
       "    </tr>\n",
       "    <tr>\n",
       "      <th>5</th>\n",
       "      <td>3.800</td>\n",
       "      <td>-0.000441</td>\n",
       "      <td>-1.158686</td>\n",
       "      <td>-0.332475</td>\n",
       "      <td>-1.170442</td>\n",
       "    </tr>\n",
       "    <tr>\n",
       "      <th>6</th>\n",
       "      <td>3.850</td>\n",
       "      <td>-0.000436</td>\n",
       "      <td>-1.145269</td>\n",
       "      <td>-0.587738</td>\n",
       "      <td>-1.150291</td>\n",
       "    </tr>\n",
       "    <tr>\n",
       "      <th>7</th>\n",
       "      <td>4.000</td>\n",
       "      <td>-0.000400</td>\n",
       "      <td>-1.049150</td>\n",
       "      <td>-1.027134</td>\n",
       "      <td>-1.043507</td>\n",
       "    </tr>\n",
       "    <tr>\n",
       "      <th>8</th>\n",
       "      <td>4.250</td>\n",
       "      <td>-0.000313</td>\n",
       "      <td>-0.822097</td>\n",
       "      <td>-1.174281</td>\n",
       "      <td>-0.814908</td>\n",
       "    </tr>\n",
       "    <tr>\n",
       "      <th>9</th>\n",
       "      <td>4.500</td>\n",
       "      <td>-0.000232</td>\n",
       "      <td>-0.609904</td>\n",
       "      <td>-1.049557</td>\n",
       "      <td>-0.607275</td>\n",
       "    </tr>\n",
       "    <tr>\n",
       "      <th>10</th>\n",
       "      <td>5.000</td>\n",
       "      <td>-0.000123</td>\n",
       "      <td>-0.322831</td>\n",
       "      <td>-0.689376</td>\n",
       "      <td>-0.326588</td>\n",
       "    </tr>\n",
       "    <tr>\n",
       "      <th>11</th>\n",
       "      <td>6.000</td>\n",
       "      <td>-0.000038</td>\n",
       "      <td>-0.099165</td>\n",
       "      <td>-0.264117</td>\n",
       "      <td>-0.099728</td>\n",
       "    </tr>\n",
       "    <tr>\n",
       "      <th>12</th>\n",
       "      <td>7.000</td>\n",
       "      <td>-0.000014</td>\n",
       "      <td>-0.036836</td>\n",
       "      <td>-0.108747</td>\n",
       "      <td>-0.031836</td>\n",
       "    </tr>\n",
       "  </tbody>\n",
       "</table>\n",
       "</div>"
      ],
      "text/plain": [
       "    R (Å)  V(r) (Hartree)  V(r) (kJ/mol)  V(r) LennardJones  V(r) Yang\n",
       "0   3.000        0.003055       8.020850          50.593771   7.069414\n",
       "1   3.250        0.000518       1.360298          15.121296   0.980612\n",
       "2   3.500       -0.000279      -0.732462           3.655327  -0.849850\n",
       "3   3.750       -0.000441      -1.157373           0.000000  -1.178000\n",
       "4   3.775       -0.000442      -1.160130          -0.176962  -1.176025\n",
       "5   3.800       -0.000441      -1.158686          -0.332475  -1.170442\n",
       "6   3.850       -0.000436      -1.145269          -0.587738  -1.150291\n",
       "7   4.000       -0.000400      -1.049150          -1.027134  -1.043507\n",
       "8   4.250       -0.000313      -0.822097          -1.174281  -0.814908\n",
       "9   4.500       -0.000232      -0.609904          -1.049557  -0.607275\n",
       "10  5.000       -0.000123      -0.322831          -0.689376  -0.326588\n",
       "11  6.000       -0.000038      -0.099165          -0.264117  -0.099728\n",
       "12  7.000       -0.000014      -0.036836          -0.108747  -0.031836"
      ]
     },
     "execution_count": 13,
     "metadata": {},
     "output_type": "execute_result"
    }
   ],
   "source": [
    "#generate the according energyvalues values\n",
    "kJ_dataframe['V(r) LennardJones'] = \\\n",
    "kJ_dataframe['R (Å)'].apply(lambda distance: lennardJonesEquation(distance,sigma,epsilon))\n",
    "\n",
    "kJ_dataframe['V(r) Yang'] = \\\n",
    "kJ_dataframe['R (Å)'].apply(lambda radius: potential_energy_Yang(epsilon,sigma,radius,alpha))\n",
    "\n",
    "kJ_dataframe"
   ]
  },
  {
   "cell_type": "markdown",
   "id": "d088097f-5545-40ea-9b9d-3fdbabece1d4",
   "metadata": {},
   "source": [
    "<h3>Task 3</h3>\n",
    "<p>In task 3 we plot the resulting dataframe we got in task 2, to see how both formulas approximate the real values and which one is more precise.</p>"
   ]
  },
  {
   "cell_type": "markdown",
   "id": "b29ca154-50e3-4444-8313-55f60d437dee",
   "metadata": {},
   "source": [
    "<p>For this we use pandas builtin plot function. \n",
    "<br> First we create a new dataframe \"plot_dataframe\", which is the same as \"kJ_dataframe\" from task 2 only that we drop the column with the potential energy values in Hartee because we don't need them.</p>"
   ]
  },
  {
   "cell_type": "code",
   "execution_count": 9,
   "id": "b80506d9-86d2-409e-b71b-c3d6875c81f3",
   "metadata": {},
   "outputs": [],
   "source": [
    "plot_dataframe = kJ_dataframe.drop(columns=[\"V(r) (Hartree)\"])"
   ]
  },
  {
   "cell_type": "markdown",
   "id": "9c60d504-111f-4eec-b98f-f9dca63ab951",
   "metadata": {},
   "source": [
    "<p>Now all we have to do is use pandas plot function and labelling our axes which gives us the plot. \n",
    "</p>"
   ]
  },
  {
   "cell_type": "code",
   "execution_count": 10,
   "id": "bbe11d88-097e-4e2d-a3fc-046c297d2151",
   "metadata": {},
   "outputs": [
    {
     "data": {
      "text/plain": [
       "<Axes: title={'center': 'Lennard-Jones and Yang formula apporximation of potential energies'}, xlabel='Radius in Å', ylabel='Energy in kJ/mol'>"
      ]
     },
     "execution_count": 10,
     "metadata": {},
     "output_type": "execute_result"
    },
    {
     "data": {
      "image/png": "[encoded data removed]",
      "text/plain": [
       "<Figure size 640x480 with 1 Axes>"
      ]
     },
     "metadata": {},
     "output_type": "display_data"
    }
   ],
   "source": [
    "plot_dataframe.plot.line(title=\"Lennard-Jones and Yang formula apporximation of potential energies\",\n",
    "                         x=\"R (Å)\", xlabel=\"Radius in Å\", ylabel=\"Energy in kJ/mol\", grid=True)"
   ]
  },
  {
   "cell_type": "markdown",
   "id": "1441dc7c-4bdc-4695-86ce-5a831300c234",
   "metadata": {},
   "source": [
    "<h3>Task 4</h3>\n",
    "<p>Task 4 is to export our data to a csv file. </p>"
   ]
  },
  {
   "cell_type": "markdown",
   "id": "62473502-4676-4bae-a680-4d8f4eb8d0aa",
   "metadata": {},
   "source": [
    "<p>For this we use pandas builtin function to_csv and save our data to \"assignment4.csv\"</p>"
   ]
  },
  {
   "cell_type": "code",
   "execution_count": 11,
   "id": "de599af7-eda7-45e2-860c-c5562cd378a5",
   "metadata": {},
   "outputs": [],
   "source": [
    "kJ_dataframe.to_csv(\"assignment4.csv\", sep=\";\")"
   ]
  },
  {
   "cell_type": "markdown",
   "id": "57d23e89-febc-4c2f-aea4-921ebdb23155",
   "metadata": {
    "jp-MarkdownHeadingCollapsed": true
   },
   "source": [
    "<h3>Conclusion</h3>\n",
    "<p>In this assigmnent we learned to use the pandas module for python. We learned how to import and export data from csv files and how to add, remove and manipulate columns in dataframes.</p>\n",
    "\n",
    "<p> The result of our computing of the data is that both the Lennard-Jones and Yangs equation are good approximations for the potential energy between two atoms. But Yangs equation is more accurate than Lennard-Jones' when it comes to smaller radii, which is why i would personally recommend using it when it comes to precision.</p>"
   ]
  },
  {
   "cell_type": "markdown",
   "id": "c15c871b-541a-44cd-9ac8-1885f4e34f1f",
   "metadata": {},
   "source": [
    "<h3>References</h3>\n",
    "<ol>\n",
    "<li>Li Yang, Lei Sun, Wei-Qiao Deng \"van der Waals Function for Molecular Mechanics\". Published January 21, 2020 <br>https://lea.hochschule-bonn-rhein-sieg.de/ilias.php?ref_id=1485372&file=YangSD2020.pdf&ass_id=42489&cmd=downloadFile&cmdClass=ilexsubmissiongui&cmdNode=bk:nw:c0&baseClass=ilExerciseHandlerGUI <br>Accessed Nov 24, 2023 </li>\n",
    "<li>Rabia Naeem \"Lennard-Jones Potential\". https://chem.libretexts.org/Bookshelves/Physical_and_Theoretical_Chemistry_Textbook_Maps/Supplemental_Modules_(Physical_and_Theoretical_Chemistry)/Physical_Properties_of_Matter/Atomic_and_Molecular_Properties/Intermolecular_Forces/Specific_Interactions/Lennard-Jones_Potential#title<br> Accessed Nov 24, 2023</li>\n",
    "<li>Python Software Foundation \"math — Mathematical functions\". Last updated on Nov 23, 2023 <br>https://docs.python.org/3/library/math.html <br>Accessed Nov 24, 2023 </li>\n",
    "<li>pandas \"pandas documentation\". Last updated on Nov 10, 2023<br> https://pandas.pydata.org/docs/ <br>Accessed Nov 24, 2023</li>\n",
    "<li> Karl N. Kirschner \"Scientific Programming with Python Assignment: The Interaction Between Two Atoms\". Last updated on Nov 13, 2023 <br>https://lea.hochschule-bonn-rhein-sieg.de/ilias.php?ref_id=1485372&file=CybulskiT1999_Ar2.csv&ass_id=42489&cmd=downloadFile&cmdClass=ilexsubmissiongui&cmdNode=bk:nw:c0&baseClass=ilExerciseHandlerGUI <br>Accessed Nov 24, 2023</li>\n",
    "<li>National Institute of Standards and Technology \"What's a hartree?\". Published 2013 <br>https://cccbdb.nist.gov/hartree.asp#:~:text=A%20hartree%20is%20equal%20to,%2C%20and%20219474.6%20cm%2D1.<br> Accessed  Nov 24, 2023</li>\n",
    "<li>Zyba Ltd, \"Equation Editor for online mathematics\". Published 2005 <br> https://editor.codecogs.com/<br>Accessed Nov 24, 2023 \n",
    "</li>\n",
    "\n",
    "    \n",
    "</ol>             "
   ]
  }
 ],
 "metadata": {
  "kernelspec": {
   "display_name": "Python 3 (ipykernel)",
   "language": "python",
   "name": "python3"
  },
  "language_info": {
   "codemirror_mode": {
    "name": "ipython",
    "version": 3
   },
   "file_extension": ".py",
   "mimetype": "text/x-python",
   "name": "python",
   "nbconvert_exporter": "python",
   "pygments_lexer": "ipython3",
   "version": "3.12.0"
  }
 },
 "nbformat": 4,
 "nbformat_minor": 5
}
