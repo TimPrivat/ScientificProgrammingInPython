{
 "cells": [
  {
   "cell_type": "markdown",
   "id": "331e2a13-dfe2-4f1a-b0a6-ea2164fe37a6",
   "metadata": {},
   "source": [
    "2023WS_59431"
   ]
  },
  {
   "cell_type": "markdown",
   "id": "173ef4c8-3288-4cba-8236-fe2c4072b40a",
   "metadata": {},
   "source": [
    "# The Lennard-Jones Equation"
   ]
  },
  {
   "cell_type": "markdown",
   "id": "49e3ba22-8415-46de-b5a8-de197bd6bfd8",
   "metadata": {},
   "source": [
    "The Lennard-Jones equation is about to approximates the interaction between uncharged atoms that are not chemically bonded to each other.<br>\n",
    "The equation looks like this:"
   ]
  },
  {
   "cell_type": "markdown",
   "id": "40bd11bc-ab15-49a7-972c-d0827ca00a39",
   "metadata": {},
   "source": [
    "$$ \\Large V_{LJ}(r)=4\\varepsilon\\left[\\left(\\frac{\\sigma}{r}\\right)^{12}-\\left(\\frac{\\sigma}{r}\\right)^6\\right] $$"
   ]
  },
  {
   "cell_type": "markdown",
   "id": "45eebe63-a3a2-4fbf-85ee-4138d2e43650",
   "metadata": {},
   "source": [
    "$ V_{LJ} $ is the intermolecular potential between two atoms in units of electronvolts (eV).\n",
    "<br>\n",
    "$ \\varepsilon $ is the depth of the potential well in units of electronvolts (eV) created by the two influences.\n",
    "<br>\n",
    "$ \\sigma $ is the particle distance in units of Angstroms at which the Lennard-Jones potential has a zero point.\n",
    "<br>\n",
    "$ r $ is the distance between the particles in units of Angstroms."
   ]
  },
  {
   "cell_type": "markdown",
   "id": "27fa52d9-05ae-4cc3-b94c-327c47d0aaf9",
   "metadata": {},
   "source": [
    "In python the function looks like this:"
   ]
  },
  {
   "cell_type": "code",
   "execution_count": 3,
   "id": "b207de99-926b-47af-a8bd-30e29f3e6cb0",
   "metadata": {},
   "outputs": [],
   "source": [
    "def lennard_jones_potential_12_6(r, epsilon, sigma):\n",
    "    \"\"\"This function calculates the potentional energy with the Lennard-Jones equation.\n",
    "    :param r: float, distance between the particles. (in Angstroms)\n",
    "    :param epsilon: float, depth of the potential well created by the two particles. (in eV)\n",
    "    :param sigma: float, particle distance at which the Lennard-Jones potential has a zero point. (in Angstroms)\n",
    "\n",
    "    :return: float, potential energy (in Joules)\n",
    "    \"\"\"\n",
    "    potential_energy = 4*epsilon*((sigma/r)**12 - (sigma/r)**6)  # Calculating the Lennard-Jones Equation\n",
    "    potential_energy = potential_energy*(1.602176565*10**-19)  # Converting potential_energy to joules\n",
    "    return potential_energy"
   ]
  },
  {
   "cell_type": "markdown",
   "id": "b9915f93-aa6e-4c74-bbf0-8826dac2bb42",
   "metadata": {},
   "source": [
    "Here we calculate the nonbonded pontential energy between two argon atoms.<br>\n",
    "The two atoms are separated by a distance of 3.5 Angstroms and using the values $ \\varepsilon $ = 0.0103 eV and $ \\sigma $ = 3.4 Angstroms"
   ]
  },
  {
   "cell_type": "code",
   "execution_count": 4,
   "id": "e80537b7-3e8c-410d-aca9-dfe9c9f867c5",
   "metadata": {},
   "outputs": [
    {
     "data": {
      "text/plain": [
       "-8.85554437272499e-22"
      ]
     },
     "execution_count": 4,
     "metadata": {},
     "output_type": "execute_result"
    }
   ],
   "source": [
    "r = 3.5\n",
    "epsilon = 0.0103\n",
    "sigma = 3.4\n",
    "\n",
    "lennard_jones_potential_12_6(r, epsilon, sigma)"
   ]
  },
  {
   "cell_type": "markdown",
   "id": "075f897e-8177-4c10-b953-301335bf0e91",
   "metadata": {},
   "source": [
    "The nonbonded pontential energy of this calculation is -8.85554437272499e-22 Joules."
   ]
  },
  {
   "cell_type": "code",
   "execution_count": null,
   "id": "ad646a72-ae49-42ef-a071-1f3e464d9a47",
   "metadata": {},
   "outputs": [],
   "source": []
  }
 ],
 "metadata": {
  "kernelspec": {
   "display_name": "Python 3 (ipykernel)",
   "language": "python",
   "name": "python3"
  },
  "language_info": {
   "codemirror_mode": {
    "name": "ipython",
    "version": 3
   },
   "file_extension": ".py",
   "mimetype": "text/x-python",
   "name": "python",
   "nbconvert_exporter": "python",
   "pygments_lexer": "ipython3",
   "version": "3.12.0"
  }
 },
 "nbformat": 4,
 "nbformat_minor": 5
}
