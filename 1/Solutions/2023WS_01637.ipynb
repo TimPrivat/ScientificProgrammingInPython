{
 "cells": [
  {
   "cell_type": "markdown",
   "id": "bddfa753",
   "metadata": {
    "ExecuteTime": {
     "end_time": "2023-10-08T15:01:12.051326Z",
     "start_time": "2023-10-08T15:01:12.039046Z"
    }
   },
   "source": [
    "<center><img src=\"https://upload.wikimedia.org/wikipedia/commons/thumb/8/83/HochschuleB-R-S.svg/1280px-HochschuleB-R-S.svg.png\"  width=\"35%\"/>\n",
    "\n",
    "# **<center>Scientific Programming with Python**\n",
    "## <center>Assignment 1: Lennard-Jones Equation\n",
    "## <center>Student:Salah Eddine Bentounsi</center>\n"
   ]
  },
  {
   "cell_type": "markdown",
   "id": "6c0b8675",
   "metadata": {
    "ExecuteTime": {
     "end_time": "2023-10-08T15:16:20.876050Z",
     "start_time": "2023-10-08T15:16:20.863858Z"
    }
   },
   "source": [
    "<h1><strong>Outline:</strong></h1>\n",
    "<ul>\n",
    "<li>Objective of this assignment</li>\n",
    "<li>The Lennard-Jones potential Equation</li>\n",
    "<ul>\n",
    "<li>Formula</li>\n",
    "<li>Explanation of Terms</li>\n",
    "</ul>\n",
    "<li>Calculation of  nonbonded potential energy</li>\n",
    "<ul>\n",
    "<li>Python Function</li>\n",
    "<li>Sample calculation between two argon atoms </li>\n",
    "</ul>\n",
    "<li>Conclusion</li>\n",
    "</ul>\n"
   ]
  },
  {
   "cell_type": "markdown",
   "id": "c0bd2bfa",
   "metadata": {},
   "source": [
    "# **1-Objective of this assignment:**"
   ]
  },
  {
   "cell_type": "markdown",
   "id": "c1ce9af4",
   "metadata": {},
   "source": [
    "<p>This assignment aims to help us become familiar with Jupyter notebooks or Google Colab, demonstrate our proficiency in Python 3, and introduce us to the Lennard-Jones potential for modeling molecular interactions and unit conversion.</p>"
   ]
  },
  {
   "cell_type": "markdown",
   "id": "b1e1a4d9",
   "metadata": {},
   "source": [
    "# **2-The Lennard-Jones potential Equation:**"
   ]
  },
  {
   "cell_type": "markdown",
   "id": "30cc55bf",
   "metadata": {
    "jp-MarkdownHeadingCollapsed": true
   },
   "source": [
    "## 2.1-Formula:"
   ]
  },
  {
   "cell_type": "markdown",
   "id": "59f36e0a",
   "metadata": {},
   "source": [
    "<p>In scientific research, computer simulations of molecular systems often use the Lennard-Jones potential equation to approximate how atoms interact with each other The Lennard-Jones equation is given as:</p>\n",
    "<blockquote>\n",
    "  <p>V<sub>ij</sub>(r) = 4ε[(σ/r)<sup>12</sup> - (σ/r)<sup>6</sup>]</p>\n",
    "</blockquote>\n",
    "\n"
   ]
  },
  {
   "cell_type": "markdown",
   "id": "42aafe5b",
   "metadata": {
    "heading_collapsed": true
   },
   "source": [
    "## 2.2-Explanation of Terms:"
   ]
  },
  {
   "cell_type": "markdown",
   "id": "c1693582",
   "metadata": {
    "ExecuteTime": {
     "end_time": "2023-10-08T15:59:16.264972Z",
     "start_time": "2023-10-08T15:59:16.250596Z"
    },
    "hidden": true
   },
   "source": [
    "<p>Where:</p>\n",
    "<ul>\n",
    "  <li>V<sub>ij</sub>(r) is the potential energy in electronvolts (eV) of the interaction.</li>\n",
    "  <li>ε (epsilon) and σ (sigma) are atom-specific parameters.</li>\n",
    "  <li>r is the distance between atoms.</li>\n",
    "</ul>"
   ]
  },
  {
   "cell_type": "markdown",
   "id": "7c306030",
   "metadata": {},
   "source": [
    "# **3-Calculation of nonbonded potential energy:**"
   ]
  },
  {
   "cell_type": "markdown",
   "id": "de018063",
   "metadata": {},
   "source": [
    "##  3.1-Python Function:"
   ]
  },
  {
   "cell_type": "code",
   "execution_count": 7,
   "id": "8e0d4728",
   "metadata": {
    "ExecuteTime": {
     "end_time": "2023-10-08T16:22:09.225079Z",
     "start_time": "2023-10-08T16:22:09.214142Z"
    }
   },
   "outputs": [],
   "source": [
    "def calculate_lennard_jones_potential(epsilon, sigma, distance):\n",
    "    \"\"\"\n",
    "    Calculate the Lennard-Jones potential energy between two atoms.\n",
    "\n",
    "    Parameters:\n",
    "    epsilon (float): The epsilon parameter for the atoms.\n",
    "    sigma (float): The sigma parameter for the atoms.\n",
    "    distance (float): The distance between the atoms.\n",
    "\n",
    "    Returns:\n",
    "    float: The potential energy in joules (J).\n",
    "    \"\"\"\n",
    "    eV_to_J = 1.60219e-19  # Conversion factor from eV to J\n",
    "    r_over_sigma = distance / sigma\n",
    "    term1 = (sigma / distance) ** 12\n",
    "    term2 = (sigma / distance) ** 6\n",
    "    potential_energy_eV = 4 * epsilon * (term1 - term2)\n",
    "    potential_energy_J = potential_energy_eV * eV_to_J\n",
    "    return potential_energy_J"
   ]
  },
  {
   "cell_type": "markdown",
   "id": "0ad16c35",
   "metadata": {},
   "source": [
    "## 3.2-Sample calculation between two argon atoms:"
   ]
  },
  {
   "cell_type": "code",
   "execution_count": 11,
   "id": "c41f690c",
   "metadata": {
    "ExecuteTime": {
     "end_time": "2023-10-08T16:24:25.845994Z",
     "start_time": "2023-10-08T16:24:25.832123Z"
    }
   },
   "outputs": [
    {
     "name": "stdout",
     "output_type": "stream",
     "text": [
      "Potential Energy for Argon Atoms: -8.855618630607202e-22 Joules\n"
     ]
    }
   ],
   "source": [
    "# Constants for argon atoms\n",
    "epsilon_argon = 0.0103  # eV\n",
    "sigma_argon = 3.40  # A (angstroms)\n",
    "distance_argon = 3.5  # A (angstroms)\n",
    "\n",
    "# Calculate potential energy for argon atoms\n",
    "argon_potential_energy_J = calculate_lennard_jones_potential(epsilon=epsilon_argon,sigma=sigma_argon,distance=distance_argon)\n",
    "\n",
    "print(\"Potential Energy for Argon Atoms:\", argon_potential_energy, \"Joules\")"
   ]
  },
  {
   "cell_type": "markdown",
   "id": "03ac16a2",
   "metadata": {},
   "source": [
    "# 4-conclusion:"
   ]
  },
  {
   "cell_type": "markdown",
   "id": "b2205278",
   "metadata": {},
   "source": [
    "<p>In this assignment, we used Python to calculate the Lennard-Jones potential energy between two argon atoms at a distance of 3.5 angstroms. The Lennard-Jones equation, which models molecular interactions, was employed with atom-specific parameters. We successfully converted the energy to joules, the International Unit for Energy in the SI system. This assignment provided hands-on experience with scientific programming and highlighted the significance of the Lennard-Jones potential in molecular modeling.</p>"
   ]
  }
 ],
 "metadata": {
  "kernelspec": {
   "display_name": "Python 3 (ipykernel)",
   "language": "python",
   "name": "python3"
  },
  "language_info": {
   "codemirror_mode": {
    "name": "ipython",
    "version": 3
   },
   "file_extension": ".py",
   "mimetype": "text/x-python",
   "name": "python",
   "nbconvert_exporter": "python",
   "pygments_lexer": "ipython3",
   "version": "3.12.0"
  }
 },
 "nbformat": 4,
 "nbformat_minor": 5
}
