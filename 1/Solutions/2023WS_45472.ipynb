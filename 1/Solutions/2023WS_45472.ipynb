{
 "cells": [
  {
   "cell_type": "markdown",
   "id": "eae62c10-0383-4999-b221-75a7045b4f02",
   "metadata": {},
   "source": [
    "2023WS_45472 "
   ]
  },
  {
   "cell_type": "markdown",
   "id": "f39d8d40-bad5-4140-a7be-a58a438fe454",
   "metadata": {},
   "source": [
    "<center>\n",
    "    <h2>Lennard-Jones Equation</h2>\n"
   ]
  },
  {
   "cell_type": "markdown",
   "id": "25481821-1d71-4b04-8da4-0957ded27356",
   "metadata": {},
   "source": [
    "$$\\Large V_{LJ}(r) = 4\\varepsilon \\left[\\left(\\frac{\\sigma}{r}\\right)^{12} - \\left(\\frac{\\sigma}{r}\\right)^{6}\\right] $$"
   ]
  },
  {
   "cell_type": "markdown",
   "id": "f0c779aa-f00b-4a70-bce8-3ba88929c6aa",
   "metadata": {},
   "source": [
    "<center>The Lennard-Jones Equation is an atomistic model, <br>\n",
    "    which calculates how atoms attract and repel each other [1]. <br>\n",
    "  </center>"
   ]
  },
  {
   "cell_type": "markdown",
   "id": "e4cb0e1d-0115-48a1-9ebd-2d4f1c5a787c",
   "metadata": {},
   "source": [
    "---"
   ]
  },
  {
   "cell_type": "markdown",
   "id": "f9828480-2717-4b39-a05d-10a59438220b",
   "metadata": {},
   "source": [
    "<h3>Task</h3> \n",
    "By using the Lennard-Jones Equation, we are supposed to calculate the potential energy between two argon atoms with specific values [2]. <br>\n",
    "First of all, we implement the stated formula in Python."
   ]
  },
  {
   "cell_type": "code",
   "execution_count": 25,
   "id": "423af61d-8ef4-45bd-8059-941555876a6a",
   "metadata": {},
   "outputs": [],
   "source": [
    "#All variables declared with float for precise calculations, formula only works with 3 variables and returns the result\n",
    "\n",
    "def lennardJonesEquation(epsilon: float, sigma: float, distance: float) -> float:\n",
    "    return 4 * epsilon * ((sigma/distance) ** 12 - (sigma/distance) ** 6) #result is Potential energy in eV\n",
    "    \n",
    "#epsilon (eV) = atom dependent parameter\n",
    "#sigma    (Å) = atom dependent parameter\n",
    "#distance (Å) = distance between the two atoms"
   ]
  },
  {
   "cell_type": "markdown",
   "id": "676a8823-a3d7-42ee-b205-01d27402028e",
   "metadata": {},
   "source": [
    "After preparing the necessary code, we provide the parameters with real numbers given by the task."
   ]
  },
  {
   "cell_type": "code",
   "execution_count": 26,
   "id": "cf9cbbad-ecda-4ac3-84df-02a8b4b0abe0",
   "metadata": {},
   "outputs": [
    {
     "data": {
      "text/plain": [
       "-0.005527196294201813"
      ]
     },
     "execution_count": 26,
     "metadata": {},
     "output_type": "execute_result"
    }
   ],
   "source": [
    "#First letter of each parameter, to avoid long method calls\n",
    "e = 0.0103 # eV\n",
    "s = 3.40   # Å\n",
    "d = 3.5    # Å\n",
    "\n",
    "#Now we call the method above on a new parameter, to save the result\n",
    "calculatedEnergyArgon = lennardJonesEquation(epsilon = e, sigma = s, distance = d)\n",
    "calculatedEnergyArgon #statement to check the outcome"
   ]
  },
  {
   "cell_type": "markdown",
   "id": "92bc3973-f662-4e23-977b-f7d3fa79ec49",
   "metadata": {},
   "source": [
    "Lastly, we are going to convert the final solution, which is in the unit $eV$, into the \"Internation Unit for Energy\", $J(Joules)$ [3]. <br>\n",
    "To enable this, you have to divide $V_{LJ}(r)$ by $6.242e+18$ [4]."
   ]
  },
  {
   "cell_type": "code",
   "execution_count": 27,
   "id": "567fb5f8-f154-4dad-901d-0d628b97214d",
   "metadata": {},
   "outputs": [
    {
     "name": "stdout",
     "output_type": "stream",
     "text": [
      "The nonbonded potential energy between two argon atoms with the given parameters amounts to -8.854848276516843e-22 Joules.\n"
     ]
    }
   ],
   "source": [
    "print(f\"The nonbonded potential energy between two argon atoms with the given parameters amounts to {calculatedEnergyArgon/ 6.242E+18} Joules.\")"
   ]
  },
  {
   "cell_type": "markdown",
   "id": "89b3efb1-ae1f-4255-b9d2-98d8d553e37c",
   "metadata": {},
   "source": [
    "As we can see, the result contributes a negative number, although all of our parameters are positive, <br>which means that the particles are not attracted to each other and the force between these two argon atoms is repulsive [1]."
   ]
  },
  {
   "cell_type": "markdown",
   "id": "24ec98f9-1b2c-4e97-a30f-418e15911c31",
   "metadata": {},
   "source": [
    "<h2>References</h2> "
   ]
  },
  {
   "cell_type": "markdown",
   "id": "3a35e0c6-6d25-4e7f-8c7f-e9ce458e91aa",
   "metadata": {},
   "source": [
    "1. Wikipedia contributors \"Lennard-Jones potential\" Wikimedia Foundation. https://en.wikipedia.org/wiki/Lennard-Jones_potential. Accessed on October 2th, 2023.\n",
    "2. Rahman A. (1964) Correlations in the motion of atoms in liquid argon. Physical Review. 136(2A), A405-A411. https://journals.aps.org/pr/abstract/10.1103/PhysRev.136.A405\n",
    "3. American Physical Society \"Energy Units\". https://www.aps.org/policy/reports/popa-reports/energy/units.cfm#:~:text=Basic%20Units,System%20of%20Units%20(SI). Accessed on October 2th, 2023.\n",
    "4. Google eV to Joule calculator. https://www.google.com/search?q=ev+to+joule&sca_esv=570043172&rlz=1C1VDKB_deDE1010DE1010&sxsrf=AM9HkKnTc5OccpCBhdnvCu7zf4pblGXIjQ%3A1696259137974&ei=QdwaZd7rOqL97_UP4quFiAo&oq=ev+to+&gs_lp=Egxnd3Mtd2l6LXNlcnAiBmV2IHRvICoCCAAyChAAGIAEGBQYhwIyBxAAGIoFGEMyBRAAGIAEMgUQABiABDIIEAAYywEYgAQyBRAAGIAEMgcQABiKBRhDMgUQABiABDIFEAAYgAQyBRAAGIAESPQ1UOIYWK0lcAJ4AZABAJgB1wGgAaoHqgEFMC41LjG4AQHIAQD4AQHCAgoQABhHGNYEGLADwgIEECMYJ8ICBxAjGIoFGCfCAgsQABiABBixAxiDAcICERAuGIAEGLEDGIMBGMcBGNEDwgINEC4YigUYxwEY0QMYQ8ICCxAuGIAEGLEDGIMBwgINEC4YigUYxwEYrwEYQ8ICEBAuGIAEGBQYhwIYsQMYgwHCAgsQLhiKBRixAxiDAcICEBAAGIAEGBQYhwIYsQMYgwHiAwQYACBBiAYBkAYI&sclient=gws-wiz-serp. Accessed on October 2th, 2023."
   ]
  }
 ],
 "metadata": {
  "kernelspec": {
   "display_name": "Python 3 (ipykernel)",
   "language": "python",
   "name": "python3"
  },
  "language_info": {
   "codemirror_mode": {
    "name": "ipython",
    "version": 3
   },
   "file_extension": ".py",
   "mimetype": "text/x-python",
   "name": "python",
   "nbconvert_exporter": "python",
   "pygments_lexer": "ipython3",
   "version": "3.12.0"
  }
 },
 "nbformat": 4,
 "nbformat_minor": 5
}
