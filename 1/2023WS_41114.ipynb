{
 "cells": [
  {
   "cell_type": "markdown",
   "id": "82073ccd-3c1b-453b-973e-9e5295f3150b",
   "metadata": {},
   "source": [
    "2023WS_41114"
   ]
  },
  {
   "cell_type": "markdown",
   "id": "b5b0c272-6bb6-4b1d-9141-cb8c1c96bc80",
   "metadata": {},
   "source": [
    "\n",
    "Author 2023WS_41114\n",
    "Date 07.10.23\n",
    "\n",
    "Goal:\n",
    "Implement the Lennard-Jones Euqation to calculate the potential Energy between two argon atoms in joule\n",
    "\n",
    "Constants:\n",
    "e: depth of the potential wall in eV\n",
    "o: distance at which the particle-particle potential energy is zero\n",
    "\n",
    "Parameters:\n",
    "r: Distance between two interacting Argon particles\n",
    "\n",
    "Result: \n",
    "pot: potential energy betwwen two argon Particles"
   ]
  },
  {
   "cell_type": "code",
   "execution_count": 1,
   "id": "c4c5b29a-f362-49a1-b636-a070a2cec6d9",
   "metadata": {},
   "outputs": [],
   "source": [
    "e= 0.0103\n",
    "o= 3.4\n",
    "r= 3.5\n",
    "def V(r):\n",
    "    pot=abs(4*e*(((o/r)**12) - ((o/r)**6))) \n",
    "    pot=pot*1.602176634* 10**-19 #Conversion from eV to J\n",
    "    return pot"
   ]
  },
  {
   "cell_type": "code",
   "execution_count": 2,
   "id": "a43277fb-d13a-46a1-b4a4-07ebf9f17548",
   "metadata": {},
   "outputs": [
    {
     "name": "stdout",
     "output_type": "stream",
     "text": [
      "The potential Energy between two Argon Atoms with the radius 3.5 Argon 8.855544754101534e-22 Joule\n"
     ]
    }
   ],
   "source": [
    "print(f'The potential Energy between two Argon Atoms with the radius {r} Argon {V(r)} Joule')"
   ]
  },
  {
   "cell_type": "markdown",
   "id": "347cfa6e-f713-41ed-9e4a-bbdb06a2dcab",
   "metadata": {},
   "source": [
    "References:\n",
    "\n",
    "asutpp,Dmitry Makarov,2023,accessed October https://www.asutpp.com/ev-to-joules.html\n",
    "\n",
    "Wikipedia,2023, accessed October 2023 https://en.wikipedia.org/wiki/Lennard-Jones_potential \n",
    "\n",
    "Journal of Physics, 2019, accessed October 2023 https://iopscience.iop.org/article/10.1088/1742-6596/1491/1/012022/pdf"
   ]
  }
 ],
 "metadata": {
  "kernelspec": {
   "display_name": "Python 3 (ipykernel)",
   "language": "python",
   "name": "python3"
  },
  "language_info": {
   "codemirror_mode": {
    "name": "ipython",
    "version": 3
   },
   "file_extension": ".py",
   "mimetype": "text/x-python",
   "name": "python",
   "nbconvert_exporter": "python",
   "pygments_lexer": "ipython3",
   "version": "3.12.0"
  }
 },
 "nbformat": 4,
 "nbformat_minor": 5
}
