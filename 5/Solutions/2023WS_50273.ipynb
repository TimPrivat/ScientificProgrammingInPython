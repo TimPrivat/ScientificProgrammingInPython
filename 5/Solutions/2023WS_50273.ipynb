{
 "cells": [
  {
   "cell_type": "markdown",
   "id": "e8dae09e",
   "metadata": {},
   "source": [
    "# <center>Scientific programming with python</center>\n",
    "##  <center>Assignment 5 : The Performance of N umpy Versus Regular Python Lists when Computing a Loss Function </center> <a class=\"tocSkip\">\n",
    "\n",
    "<center><img src=\"https://www.h-brs.de/files/logo_print_studierende.jpg\" alt=\"H-BRS Logo\" width=\"30%\" style=\"margin-top:2ex\"/></center>\n",
    "    \n",
    "<div style=\"font-size: 140%; margin:1ex;\"><center>2023WS_50273</center></div>\n",
    "<div style=\"font-size: 125%; margin:1ex;\"><center>December 3, 2023</center></div>"
   ]
  },
  {
   "cell_type": "markdown",
   "id": "8fc1c28e",
   "metadata": {},
   "source": [
    "Introduction:                                                                                                               \n",
    "Weather researchers have developed a machine learning model that predicts rainfall and evaporation on different days at different locations in Australia [1][2]."
   ]
  },
  {
   "cell_type": "markdown",
   "id": "90bf688f",
   "metadata": {},
   "source": [
    "Methodology:                                                                                                                                                                      \n",
    "With creating  functions with the goal of calculating the loss function for each corresponding date and location using Numpy and regular Python lists. We can investigate the difference in performance between using Numpy and regular lists.[3]\n"
   ]
  },
  {
   "cell_type": "code",
   "execution_count": 1,
   "id": "00c444b2",
   "metadata": {
    "ExecuteTime": {
     "end_time": "2023-12-02T23:01:57.828332Z",
     "start_time": "2023-12-02T23:01:57.816749Z"
    }
   },
   "outputs": [],
   "source": [
    "import numpy as np\n",
    "import pandas as pd\n",
    "import timeit"
   ]
  },
  {
   "cell_type": "code",
   "execution_count": 2,
   "id": "19eea75d",
   "metadata": {
    "ExecuteTime": {
     "end_time": "2023-12-02T23:01:58.592468Z",
     "start_time": "2023-12-02T23:01:58.450875Z"
    }
   },
   "outputs": [],
   "source": [
    "# Read the data from the CSV files\n",
    "weather_experiment = pd.read_csv('weather_experiment.csv')\n",
    "weather_prediction = pd.read_csv('weather_prediction.csv')"
   ]
  },
  {
   "cell_type": "code",
   "execution_count": 3,
   "id": "c7510254",
   "metadata": {
    "ExecuteTime": {
     "end_time": "2023-12-02T23:01:59.214557Z",
     "start_time": "2023-12-02T23:01:59.203299Z"
    }
   },
   "outputs": [],
   "source": [
    "def compute_loss_numpy(date, location, rainfall_exp, evaporation_exp, rainfall_pred, evaporation_pred, a, b):\n",
    "    # Convert the input lists to Numpy arrays\n",
    "    rainfall_exp_arr = np.array(rainfall_exp)\n",
    "    evaporation_exp_arr = np.array(evaporation_exp)\n",
    "    rainfall_pred_arr = np.array(rainfall_pred)\n",
    "    evaporation_pred_arr = np.array(evaporation_pred)\n",
    "    loss_values_numpy = a*np.abs(rainfall_pred_arr -rainfall_exp_arr)+b *np.abs(evaporation_pred_arr -evaporation_exp_arr)\n",
    "    return loss_values_numpy"
   ]
  },
  {
   "cell_type": "code",
   "execution_count": 4,
   "id": "74b4ff31",
   "metadata": {
    "ExecuteTime": {
     "end_time": "2023-12-02T23:02:00.076547Z",
     "start_time": "2023-12-02T23:01:59.923664Z"
    }
   },
   "outputs": [],
   "source": [
    "loss_values_numpy = compute_loss_numpy(weather_experiment['Date'],weather_experiment['Location'],\n",
    "                                       weather_experiment['Rainfall'], weather_experiment['Evaporation'],\n",
    "                                       weather_prediction['Rainfall Pred.'],\n",
    "                                       weather_prediction['Evaporation Pred.'], 0.5, 0.5)\n",
    "\n",
    "# Create a DataFrame for the loss values\n",
    "loss_values_numpy_df = pd.DataFrame({'Loss': loss_values_numpy})\n",
    "\n",
    "# Save the loss values to a new CSV file for Numpy\n",
    "loss_values_numpy_df.to_csv('loss_values_numpy.csv', index=False)"
   ]
  },
  {
   "cell_type": "code",
   "execution_count": 5,
   "id": "17ee6398",
   "metadata": {
    "ExecuteTime": {
     "end_time": "2023-12-02T23:02:00.753275Z",
     "start_time": "2023-12-02T23:02:00.746432Z"
    }
   },
   "outputs": [],
   "source": [
    "def compute_loss_python(date, location, rainfall_exp, evaporation_exp, rainfall_pred, evaporation_pred, a, b):\n",
    "    # Compute the loss function using regular Python lists\n",
    "    loss_values_list = [a*abs(rp - re)+b*abs(ep - ee) for rp,re,ep,ee \n",
    "                        in zip(rainfall_pred, rainfall_exp, evaporation_pred, evaporation_exp)]\n",
    "    return loss_values_list"
   ]
  },
  {
   "cell_type": "code",
   "execution_count": 6,
   "id": "86ffdbb7",
   "metadata": {
    "ExecuteTime": {
     "end_time": "2023-12-02T23:02:01.766342Z",
     "start_time": "2023-12-02T23:02:01.554907Z"
    }
   },
   "outputs": [],
   "source": [
    "loss_values_list = compute_loss_python(weather_experiment['Date'], weather_experiment['Location'],\n",
    "                                    weather_experiment['Rainfall'], weather_experiment['Evaporation'],\n",
    "                                    weather_prediction['Rainfall Pred.'],\n",
    "                                    weather_prediction['Evaporation Pred.'], 0.5, 0.5)\n",
    "# Create a DataFrame for the loss values\n",
    "loss_values_list_df = pd.DataFrame({'Loss': loss_values_list})\n",
    "\n",
    "# Save the loss values to a new CSV file for regular Python lists\n",
    "loss_values_list_df.to_csv('loss_values_list.csv', index=False)"
   ]
  },
  {
   "cell_type": "code",
   "execution_count": 7,
   "id": "22f50fc8",
   "metadata": {
    "ExecuteTime": {
     "end_time": "2023-12-02T23:02:02.564062Z",
     "start_time": "2023-12-02T23:02:02.480968Z"
    }
   },
   "outputs": [
    {
     "name": "stdout",
     "output_type": "stream",
     "text": [
      "computing with numpy\n"
     ]
    },
    {
     "data": {
      "text/plain": [
       "0.13096460001543164"
      ]
     },
     "execution_count": 7,
     "metadata": {},
     "output_type": "execute_result"
    }
   ],
   "source": [
    "# Define the variables\n",
    "date = weather_experiment['Date']\n",
    "location = weather_experiment['Location']\n",
    "rainfall_exp = weather_experiment['Rainfall']\n",
    "evaporation_exp = weather_experiment['Evaporation']\n",
    "rainfall_pred = weather_prediction['Rainfall Pred.']\n",
    "evaporation_pred = weather_prediction['Evaporation Pred.']\n",
    "time_numpy=timeit.timeit('compute_loss_numpy(date,location,rainfall_exp,evaporation_exp,rainfall_pred,evaporation_pred,.5,.5)'\n",
    "                           ,globals=globals(), number=100)\n",
    "\n",
    "print(f\"computing with numpy\")\n",
    "time_numpy\n"
   ]
  },
  {
   "cell_type": "code",
   "execution_count": 8,
   "id": "fe9a841a",
   "metadata": {
    "ExecuteTime": {
     "end_time": "2023-12-02T23:02:07.914309Z",
     "start_time": "2023-12-02T23:02:03.410383Z"
    }
   },
   "outputs": [
    {
     "name": "stdout",
     "output_type": "stream",
     "text": [
      "computing with list\n"
     ]
    },
    {
     "data": {
      "text/plain": [
       "2.5007825999055058"
      ]
     },
     "execution_count": 8,
     "metadata": {},
     "output_type": "execute_result"
    }
   ],
   "source": [
    "time_regular=timeit.timeit('compute_loss_python(date,location,rainfall_exp,evaporation_exp,rainfall_pred,evaporation_pred,.5,.5)'\n",
    "                             ,globals=globals(), number=100)\n",
    "print(f\"computing with list\")\n",
    "time_regular"
   ]
  },
  {
   "cell_type": "markdown",
   "id": "4bbfc918",
   "metadata": {},
   "source": [
    "References:                                                                                                                       \n",
    "[1] Oswal, N. Predicting Rainfall using Machine Learning Techniques. arXiv, 2019 (https://arxiv.org/abs/1910.1                                                           \n",
    "[2] Joe Young and Adamyoung. Rain in Australia, Kaggle https: //www.kaggle.com/datasets/jsphyg/weather-dataset-rattle-package?resource=download&select=weatherAUS. csv.                                                                               Online; accessed on December 3, 2023.                                              \n",
    "[3] https://numpy.org/doc/stable/user/absolute_beginners.html. accessed on December 3.2023                                                                                 "
   ]
  },
  {
   "cell_type": "code",
   "execution_count": null,
   "id": "2398fee9",
   "metadata": {},
   "outputs": [],
   "source": []
  }
 ],
 "metadata": {
  "kernelspec": {
   "display_name": "Python 3 (ipykernel)",
   "language": "python",
   "name": "python3"
  },
  "language_info": {
   "codemirror_mode": {
    "name": "ipython",
    "version": 3
   },
   "file_extension": ".py",
   "mimetype": "text/x-python",
   "name": "python",
   "nbconvert_exporter": "python",
   "pygments_lexer": "ipython3",
   "version": "3.12.0"
  }
 },
 "nbformat": 4,
 "nbformat_minor": 5
}
