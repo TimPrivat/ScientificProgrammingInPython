{
 "cells": [
  {
   "cell_type": "markdown",
   "id": "6624db34-1048-400b-a4e3-21bccb827842",
   "metadata": {},
   "source": [
    "<div class=\"alert alert-block alert-success\">\n",
    "    <b>Title</b>: Lennard-Jones Equation v.2 <br>\n",
    "    <b>Author</b>: 2023WS_47260 <br>\n",
    "    <b>Date</b>: October 24, 2023 <br>\n",
    "    <b>Prof</b>: Karl N. Kirschner\n",
    "</div> [1]"
   ]
  },
  {
   "cell_type": "markdown",
   "id": "97017d1c-69c1-42cd-bf2f-a69bd8b03aac",
   "metadata": {},
   "source": [
    "# Assignment 2"
   ]
  },
  {
   "cell_type": "markdown",
   "id": "790d0414-8d96-46da-983d-8a62bd8f7e89",
   "metadata": {},
   "source": [
    "$Goal:$ <br>\n",
    "In this assignment we will use the Lennard-Jones equation from our previous task and apply it on different situations to calculate the nonbonded potential energy between two argon atoms. <br>\n",
    "Then we identify the lowest energy value and its corresponding distance. <br>\n",
    "Also we will define a function, put into practice significant figures and use built-in functions from Python."
   ]
  },
  {
   "cell_type": "markdown",
   "id": "8d1dfc1f-79d5-42c7-bb7c-938c6978f983",
   "metadata": {},
   "source": [
    "## Task 1"
   ]
  },
  {
   "cell_type": "markdown",
   "id": "4b0d8168-d0f4-418c-bcce-f34940f9e6d8",
   "metadata": {},
   "source": [
    "In this task we will use the Lennard-Jones equation to calculate the nonbonded potential energy between two argon atoms\n",
    "that are seperated with the different distances $(r)$ in Ångström."
   ]
  },
  {
   "cell_type": "markdown",
   "id": "7880b7f6-f3da-4617-ac17-97f67ec2e080",
   "metadata": {},
   "source": [
    "$$\\Large\\text{The Lennard-Jones formula is defined as follows:} \\space _{[2]}$$ <br>\n",
    "$$V_{LJ}(r) = 4\\epsilon \\space [(\\frac{\\sigma}{r})^{12} - (\\frac{\\sigma}{r})^{6}]$$"
   ]
  },
  {
   "cell_type": "code",
   "execution_count": 1,
   "id": "54940a1b-c9f2-4997-a4b9-031882f334f6",
   "metadata": {},
   "outputs": [],
   "source": [
    "def lennard_jones_equation(epsilon, sigma, radius)->float:\n",
    "    \"\"\"This function calculates the potential energy in eV of the interaction of two atoms.\n",
    "    :param epsilon: float, well depth in electronvolt #[3]\n",
    "    :param sigma: float, distance where the intermolecular potential between both atoms is zero in angstrom\n",
    "    :param radius: float, distance between the two atoms in angstrom\n",
    "\n",
    "    :return: float, result of the equation in electronvolt\n",
    "    \"\"\"\n",
    "    return 4.0*epsilon*((sigma/radius)**12.0 - (sigma/radius)**6.0)"
   ]
  },
  {
   "cell_type": "markdown",
   "id": "b2f28e87-3216-4ed0-abbc-6e49094a06a7",
   "metadata": {},
   "source": [
    "$$\\Large\\text {Now we need to convert it into joule with the following formula:}$$ <br>\n",
    "$$E_{(J)} = E_{(eV)} \\ast 1,602176634 \\ast 10^{-19}\\space _{[4]}$$"
   ]
  },
  {
   "cell_type": "markdown",
   "id": "73f643a5-d156-4e0e-aefe-31b92bdf7dd1",
   "metadata": {},
   "source": [
    "This code calculates the potential for molecular interactions in eV and converts it into joule:"
   ]
  },
  {
   "cell_type": "code",
   "execution_count": 2,
   "id": "7443f44d-e4ad-483e-8591-be573bde90b2",
   "metadata": {},
   "outputs": [],
   "source": [
    "def eVtoJoule(eV)->float:\n",
    "    \"\"\"This function converts the result from the Lennard-Jones equation in Joule\n",
    "    :param eV: float, input in electronvolt\n",
    "\n",
    "    :return: float, new result in joule\n",
    "    \"\"\"\n",
    "    return eV * 1.602176634 * 10**-19  "
   ]
  },
  {
   "cell_type": "markdown",
   "id": "b0b5280d-4d6d-428c-8209-c82495479339",
   "metadata": {},
   "source": [
    "Our seperal distances $(r)$ in Ångström are:\n",
    "$$3.0 \\space Å, \\space 3.4 \\space Å, \\space 3.8 \\space Å, \\space 4.2 \\space Å, \\space 4.6 \\space Å, \\space 5.0 \\space Å. $$"
   ]
  },
  {
   "cell_type": "markdown",
   "id": "2f65563f-4fce-4dad-9a61-ed881a431d7f",
   "metadata": {},
   "source": [
    "We also got the following value for epsilon, which is the well depth $(\\epsilon)$ in electronvolt:\n",
    "$$0.0103 \\space eV$$"
   ]
  },
  {
   "cell_type": "markdown",
   "id": "bdd11582-6134-4e8d-be74-a2eb41ad8a04",
   "metadata": {},
   "source": [
    "Lastly, we have the following value for the distance at which the intermolecular potential between the two atoms is zero $(\\sigma)$ in Ångström:\n",
    "$$3.40 \\space Å$$"
   ]
  },
  {
   "cell_type": "code",
   "execution_count": 7,
   "id": "36b77a77-84ba-42b4-9272-5ab10dc7d0de",
   "metadata": {},
   "outputs": [
    {
     "name": "stdout",
     "output_type": "stream",
     "text": [
      "The resulting energy at a distance of 3.0 Å is 1.6e-20 J.\n",
      "The resulting energy at a distance of 3.4 Å is 0.0 J.\n",
      "The resulting energy at a distance of 3.8 Å is -1.6e-21 J.\n",
      "The resulting energy at a distance of 4.2 Å is -1.3e-21 J.\n",
      "The resulting energy at a distance of 4.6 Å is -9e-22 J.\n",
      "The resulting energy at a distance of 5.0 Å is -5.9e-22 J.\n"
     ]
    }
   ],
   "source": [
    "#values of the different distances in Ångström\n",
    "distances = [3.0, 3.4, 3.8, 4.2, 4.6, 5.0] \n",
    "\n",
    "#value of the well depth in electronvolt\n",
    "epsilon = 0.0103\n",
    "\n",
    "#value of he distance at which the intermolecular potential between the two atoms is zero\n",
    "sigma = 3.40 \n",
    "\n",
    "#list to save the pair of a distance with its corresponding energy\n",
    "pairs = []\n",
    "\n",
    "#calculate the energy to every distance and save both values in the list of pairs\n",
    "for distance in distances:\n",
    "    result = eVtoJoule(lennard_jones_equation(epsilon = epsilon, sigma = sigma, radius = distance))\n",
    "    pairs.append((distance,result))\n",
    "    print(f\"The resulting energy at a distance of {distance} Å is {result:.2} J.\")"
   ]
  },
  {
   "cell_type": "markdown",
   "id": "99d01cae-0b84-4548-ab1a-37c5cbe0043e",
   "metadata": {},
   "source": [
    "<br>"
   ]
  },
  {
   "cell_type": "markdown",
   "id": "d1fbeb83-7fc5-4abe-995b-c4bd94d1e8dd",
   "metadata": {},
   "source": [
    "## Task 2"
   ]
  },
  {
   "cell_type": "markdown",
   "id": "5e30d9e4-597d-4fb4-b971-618e751162f2",
   "metadata": {},
   "source": [
    "In this task we want to identify the lowest energy value and its corresponding distance from the results of Task 1. "
   ]
  },
  {
   "cell_type": "markdown",
   "id": "b9e58fc7-8797-4ce5-b145-a9806cd12831",
   "metadata": {},
   "source": [
    "To achieve this, we can use the built-in functions abs() and min() from Python itself. <br>\n",
    "This method will return the lowest value or the item with the lowest value of an iterable."
   ]
  },
  {
   "cell_type": "code",
   "execution_count": 8,
   "id": "f4882364-7277-420e-9807-1c034156844e",
   "metadata": {},
   "outputs": [
    {
     "name": "stdout",
     "output_type": "stream",
     "text": [
      "The lowest energy value is 0.0 J at a distance of 3.4 Å.\n"
     ]
    }
   ],
   "source": [
    "#min_pair is the first pair of a distance with its corresponding energy\n",
    "min_pair = pairs[0]\n",
    "\n",
    "#every pair of distance and energy is compared to the next pair in the list of pairs\n",
    "#if the absolute value of the next pair is greater than the previous pair then the new pair is the min_pair\n",
    "for pair in pairs:\n",
    "    if abs(min_pair[1]) > abs(pair[1]):\n",
    "        min_pair = pair\n",
    "        \n",
    "print(f\"The lowest energy value is {min_pair[1]:.2} J at a distance of {min_pair[0]} Å.\")"
   ]
  },
  {
   "cell_type": "markdown",
   "id": "5d4b56e1-1b94-4389-8477-02c91c0df1c1",
   "metadata": {},
   "source": [
    "# <u>References</u>\n",
    "\n",
    "[1] Daniel Kotik, “Colored note boxes inside Jupyter notebooks,” Gist. <br> https://gist.github.com/DanielKotik/4b81480c479a57e0dd13ac4d153e4451. Accessed on October 24, 2023.\n",
    "\n",
    "[2] Wikipedia contributors, \"Lennard-Jones potential\" Wikimedia Foundation. Last modified August 30, 2023. <br>\n",
    "https://en.wikipedia.org/wiki/Lennard-Jones_potential. Accessed on October 24, 2023.\n",
    "\n",
    "[3] Rabia Naeem, \"The Lennard-Jones Potential\". <br>https://chem.libretexts.org/Bookshelves/Physical_and_Theoretical_Chemistry_Textbook_Maps/Supplemental_Modules_(Physical_and_Theoretical_Chemistry)/Physical_Properties_of_Matter/Atomic_and_Molecular_Properties/Intermolecular_Forces/Specific_Interactions/Lennard-Jones_Potential#title. Accessed on October 24, 2023.\n",
    "\n",
    "[4] Dmitry Makarov, \"Electron-Volts to Joules Conversion\". <br> https://www.asutpp.com/ev-to-joules.html. Accessed on October 24, 2023."
   ]
  },
  {
   "cell_type": "code",
   "execution_count": null,
   "id": "81f836cf-6bab-48fa-bf37-dfb7bda6765f",
   "metadata": {},
   "outputs": [],
   "source": []
  }
 ],
 "metadata": {
  "kernelspec": {
   "display_name": "Python 3 (ipykernel)",
   "language": "python",
   "name": "python3"
  },
  "language_info": {
   "codemirror_mode": {
    "name": "ipython",
    "version": 3
   },
   "file_extension": ".py",
   "mimetype": "text/x-python",
   "name": "python",
   "nbconvert_exporter": "python",
   "pygments_lexer": "ipython3",
   "version": "3.12.0"
  }
 },
 "nbformat": 4,
 "nbformat_minor": 5
}
