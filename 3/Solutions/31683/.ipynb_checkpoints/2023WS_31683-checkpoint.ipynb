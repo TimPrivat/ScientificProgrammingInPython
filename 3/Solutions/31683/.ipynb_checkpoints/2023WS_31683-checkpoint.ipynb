{
 "cells": [
  {
   "cell_type": "markdown",
   "id": "4c110c7d-033c-4a29-b152-8c09a236d2cd",
   "metadata": {},
   "source": [
    "<STRONG> 2023WS_31683 </STRONG>\n",
    "## Assignment 2\n",
    "\n",
    "<STRONG> Goal : </STRONG> The goal of this assignment is to improve upon the first assigments involving the The Lennard-Jones equation and apply it to different solution.\n"
   ]
  },
  {
   "cell_type": "markdown",
   "id": "dbf176ed-b02b-4088-a8ce-df7a08779955",
   "metadata": {},
   "source": [
    "### The Lennard-Jones equation\n",
    "$$ \\begin{equation}\n",
    "V(r) = 4\\epsilon \\left[ \\left( \\dfrac{\\sigma}{r} \\right)^{12} - \\left( \\dfrac{\\sigma}{r} \\right)^{6} \\right]\n",
    "\\end{equation} $$"
   ]
  },
  {
   "cell_type": "markdown",
   "id": "cfa4791c-de8a-4bd8-98d4-8f46cae177e5",
   "metadata": {},
   "source": [
    "### Task 1\n",
    "Using Lennard-Jones equation to calculate the non bound energy between two argon atoms that are separated at a different distances."
   ]
  },
  {
   "cell_type": "code",
   "execution_count": 1,
   "id": "48c1a387-2f8b-4311-af68-e438ac1f5c2f",
   "metadata": {},
   "outputs": [],
   "source": [
    "def lennard_equation(sigma: float, epsilon: float, distance: float): # Function with clear and recognisable name.\n",
    "    return (4 * epsilon * (((sigma / distance) ** 12) - ((sigma / distance) ** 6))) # Implementation of equation that returns solution."
   ]
  },
  {
   "cell_type": "markdown",
   "id": "f8544845-bfb1-4b17-8e7a-22b4ce8acb1f",
   "metadata": {},
   "source": [
    "All the six distances necessary for the task are to be saved and ready to be used for calculation."
   ]
  },
  {
   "cell_type": "code",
   "execution_count": 2,
   "id": "c2bb7920-4ecb-4ac7-ac11-2b2556460ed7",
   "metadata": {},
   "outputs": [],
   "source": [
    "# Values to used in equation.\n",
    "sigma = 3.40 # Å\n",
    "epsilon = 0.0103 # eV\n",
    "\n",
    "# 6 different values of distances that are to be used for the calculation.\n",
    "distance1 = 3.0 # Å\n",
    "distance2 = 3.4 # Å\n",
    "distance3 = 3.8 # Å\n",
    "distance4 = 4.2 # Å\n",
    "distance5 = 4.6 # Å\n",
    "distance6 = 5.0 # Å"
   ]
  },
  {
   "cell_type": "markdown",
   "id": "c0e7e810-53a5-4f54-960d-d480c4fb62d9",
   "metadata": {},
   "source": [
    "Since all the provided distance have two significant figures means that the recorded energy also has to contain two significant figures. To accomplish this a function that will help roud up the figures is to be implemented."
   ]
  },
  {
   "cell_type": "code",
   "execution_count": 3,
   "id": "2575727e-cf7e-4813-82e3-4976d01e80c1",
   "metadata": {},
   "outputs": [],
   "source": [
    "from math import log10, floor # Imported functions to help the rounding process.\n",
    "\n",
    "def sig_fig(x, roundTo): # A function  that rounds the given significant figures.\n",
    "    # x is the number to be rounded.\n",
    "    # roundTo is the number of significant figures.\n",
    "    if(x == 0):\n",
    "        return(0.0)\n",
    "    return round(x, roundTo - int(floor(log10(abs(x)))) - 1) # Returns number rounded to the given signifocant figueres."
   ]
  },
  {
   "cell_type": "markdown",
   "id": "0492bcbc-1747-4f36-804c-0562aba08203",
   "metadata": {},
   "source": [
    "<Strong> Using Lennard-Jones equation to calculate the non bound energy between two argon atoms that are separated at a distance of 3.0 # Å. </Strong>"
   ]
  },
  {
   "cell_type": "code",
   "execution_count": 4,
   "id": "6707108c-7607-4aff-8e69-e49a7913112b",
   "metadata": {},
   "outputs": [
    {
     "name": "stdout",
     "output_type": "stream",
     "text": [
      " The potential energy between two atoms that are 3.0 Å apart = 1.6e-20 Joules. \n"
     ]
    }
   ],
   "source": [
    "# Reporting the energy in Joules to their significant figure.\n",
    "\n",
    "value1 = lennard_equation(sigma, epsilon, distance1) * float(f\"{1.6021765E-19:.2g}\")\n",
    "print(f\" The potential energy between two atoms that are 3.0 Å apart = {sig_fig(value1, 2)} Joules. \")"
   ]
  },
  {
   "cell_type": "markdown",
   "id": "9f1b97c1-db03-46bc-89d6-469dc9274827",
   "metadata": {},
   "source": [
    "<Strong> Using Lennard-Jones equation to calculate the non bound energy between two argon atoms that are separated at a distance of 3.4 # Å. </Strong>"
   ]
  },
  {
   "cell_type": "code",
   "execution_count": 5,
   "id": "bfbe798e-9635-4da9-92e4-d38330f61a45",
   "metadata": {},
   "outputs": [
    {
     "name": "stdout",
     "output_type": "stream",
     "text": [
      " The potential energy between two atoms that are 3.4 Å apart = 0.0 Joules. \n"
     ]
    }
   ],
   "source": [
    "# Reporting the energy in Joules to their significant figure.\n",
    "\n",
    "value2 = lennard_equation(sigma, epsilon, distance2) * float(f\"{1.6021765E-19:.2g}\")\n",
    "print(f\" The potential energy between two atoms that are 3.4 Å apart = {sig_fig(value2, 2)} Joules. \")"
   ]
  },
  {
   "cell_type": "markdown",
   "id": "1de235ce-2543-4f97-8f1d-5fb5214dcb7a",
   "metadata": {},
   "source": [
    "<Strong> Using Lennard-Jones equation to calculate the non bound energy between two argon atoms that are separated at a distance of 3.8 # Å. </Strong>"
   ]
  },
  {
   "cell_type": "code",
   "execution_count": 6,
   "id": "181921ec-db74-412f-975e-50a2c45c1c84",
   "metadata": {},
   "outputs": [
    {
     "name": "stdout",
     "output_type": "stream",
     "text": [
      " The potential energy between two atoms that are 3.8 Å apart = -1.6e-21 Joules. \n"
     ]
    }
   ],
   "source": [
    "# Reporting the energy in Joules to their significant figure.\n",
    "\n",
    "value3 = lennard_equation(sigma, epsilon, distance3) * float(f\"{1.6021765E-19:.2g}\")\n",
    "print(f\" The potential energy between two atoms that are 3.8 Å apart = {sig_fig(value3, 2)} Joules. \")"
   ]
  },
  {
   "cell_type": "markdown",
   "id": "9d637ffd-7119-46a0-bec3-f018d543a66b",
   "metadata": {},
   "source": [
    "<Strong> Using Lennard-Jones equation to calculate the non bound energy between two argon atoms that are separated at a distance of 4.2 # Å. </Strong>"
   ]
  },
  {
   "cell_type": "code",
   "execution_count": 7,
   "id": "51303d0b-e630-4e28-8731-4781da648aec",
   "metadata": {},
   "outputs": [
    {
     "name": "stdout",
     "output_type": "stream",
     "text": [
      " The potential energy between two atoms that are 4.2 Å apart = -1.3e-21 Joules. \n"
     ]
    }
   ],
   "source": [
    "# Reporting the energy in Joules to their significant figure.\n",
    "\n",
    "value4 = lennard_equation(sigma, epsilon, distance4) * float(f\"{1.6021765E-19:.2g}\")\n",
    "print(f\" The potential energy between two atoms that are 4.2 Å apart = {sig_fig(value4, 2)} Joules. \")"
   ]
  },
  {
   "cell_type": "markdown",
   "id": "9f6e3c5d-1f95-482d-a60f-c0c39eb70548",
   "metadata": {},
   "source": [
    "<Strong> Using Lennard-Jones equation to calculate the non bound energy between two argon atoms that are separated at a distance of 4.6 # Å. </Strong>"
   ]
  },
  {
   "cell_type": "code",
   "execution_count": 8,
   "id": "f946e1bc-34b6-4694-838f-d3393afae369",
   "metadata": {},
   "outputs": [
    {
     "name": "stdout",
     "output_type": "stream",
     "text": [
      " The potential energy between two atoms that are 4.6 Å apart = -9e-22 Joules. \n"
     ]
    }
   ],
   "source": [
    "# Reporting the energy in Joules to their significant figure.\n",
    "\n",
    "value5 = lennard_equation(sigma, epsilon, distance5) * float(f\"{1.6021765E-19:.2g}\")\n",
    "print(f\" The potential energy between two atoms that are 4.6 Å apart = {sig_fig(value5, 2)} Joules. \")"
   ]
  },
  {
   "cell_type": "markdown",
   "id": "9aa375a4-6d26-488c-828c-c0baf81d3ef0",
   "metadata": {},
   "source": [
    "<Strong> Using Lennard-Jones equation to calculate the non bound energy between two argon atoms that are separated at a distance of 5.0 # Å. </Strong>"
   ]
  },
  {
   "cell_type": "code",
   "execution_count": 9,
   "id": "d75fb6a1-77a9-4ad5-a907-f3a66c943756",
   "metadata": {},
   "outputs": [
    {
     "name": "stdout",
     "output_type": "stream",
     "text": [
      " The potential energy between two atoms that are 5.0 Å apart = -5.9e-22 Joules. \n"
     ]
    }
   ],
   "source": [
    "# Reporting the energy in Joules to their significant figure.\n",
    "\n",
    "value6 = lennard_equation(sigma, epsilon, distance6) * float(f\"{1.6021765E-19:.2g}\")\n",
    "print(f\" The potential energy between two atoms that are 5.0 Å apart = {sig_fig(value6, 2)} Joules. \")"
   ]
  },
  {
   "cell_type": "markdown",
   "id": "ba6ad411-4620-4852-85c6-1f2b9d59da38",
   "metadata": {},
   "source": [
    "### Task 2"
   ]
  },
  {
   "cell_type": "markdown",
   "id": "f7440441-ba1b-4b60-9a01-504d3b5f8adf",
   "metadata": {},
   "source": [
    "<STRONG> Goal: </STRONG> Using a function to identify the lowest enery value from Task 1's result and its corresponding distance."
   ]
  },
  {
   "cell_type": "markdown",
   "id": "b6105971-0734-4975-b793-0013d7efd8aa",
   "metadata": {},
   "source": [
    "To accomplish this, two list are to be created, one will store all the distances that are to be inserted into the Lennard-Jones equation and the other will store the recorded energy values. The energy values will then be checked with the Lowest Value Function which will return an index that will be usefull to find which value corresponds to which distance."
   ]
  },
  {
   "cell_type": "code",
   "execution_count": 10,
   "id": "19daa5ba-af54-41dc-9942-5630b226d46f",
   "metadata": {},
   "outputs": [
    {
     "name": "stdout",
     "output_type": "stream",
     "text": [
      " The lowest enery recorded is = -1.6e-21 Joules, and its corresponding distance is 3.8. \n"
     ]
    }
   ],
   "source": [
    "import numpy as np\n",
    "\n",
    "# Function that returns the index of the lowest value in the list.\n",
    "def lowest_value(list_of_values): # Function with clear and recognisable name.\n",
    "    minPosition = list_of_values.index(np.min(list_of_values))\n",
    "    return(minPosition)\n",
    "\n",
    "all_values = [value1, value2, value3, value4, value5, value6] # Place all 6 values in list.\n",
    "distance_values = [distance1, distance2, distance3, distance4, distance5, distance6] # Place all 6 distances in a list.\n",
    "\n",
    "# The index is used to display the lowest recorded energy and its and its corresponding distance.\n",
    "print(f\" The lowest enery recorded is = {sig_fig(all_values[lowest_value(all_values)], 2)}\", end = \"\") \n",
    "print(f\" Joules, and its corresponding distance is {distance_values[lowest_value(all_values)]}. \")"
   ]
  },
  {
   "cell_type": "markdown",
   "id": "e9781f42-5a80-425c-adde-54033cff7830",
   "metadata": {},
   "source": [
    "### References\r\n",
    "\r\n",
    "[1] Wikipedia Contributors. \"List of mathematical symbols by subject\". Last modified : 11 August 2023 https://en.wikipedia.org/w/index.phptitle=List_of_mathematical_symbols_by_subject&oldid=1169738671. Accessed on October 25 2023.\r\n",
    "\r\n",
    "[2] Wikipedia Contributors. \"Lennard-Jones potential\", Last modified : August 30, 2023. https://en.wikipedia.org/wiki/Lennard-Jones_potential. Accessed on October 25 2023.\r\n",
    "\r\n",
    "[3] Wikipedia Contributors. Wikipedia Contributors. \"International System of Units\", Last modified : September 28, 2023. https://en.wikipedia.org/wiki/International_System_of_Units. Accessed on October 25 2023.\r\n",
    "\r\n",
    "[4] Medium. \"Writing Math Equations in Jupyter Notebook: A Naive Introduction\", Last modified : March 30, 2020. https://medium.com/analytics-vidhya/writing-math-equations-in-jupyter-notebook-a-naive-introduct. Accessed on October 25 2023.\r\n",
    "\r\n",
    "[5] Medium, \"Rounding to significant figures in Python\", Last modified : June 09, 2022. https://mattgosden.medium.com/rounding-to-significant-figures-in-python-2415661b94c3. Accessed on October 25 2023."
   ]
  }
 ],
 "metadata": {
  "kernelspec": {
   "display_name": "Python 3 (ipykernel)",
   "language": "python",
   "name": "python3"
  },
  "language_info": {
   "codemirror_mode": {
    "name": "ipython",
    "version": 3
   },
   "file_extension": ".py",
   "mimetype": "text/x-python",
   "name": "python",
   "nbconvert_exporter": "python",
   "pygments_lexer": "ipython3",
   "version": "3.12.0"
  }
 },
 "nbformat": 4,
 "nbformat_minor": 5
}
