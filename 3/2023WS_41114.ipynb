{
 "cells": [
  {
   "cell_type": "markdown",
   "id": "a86deb0c-7f73-4d0e-bcc9-faa51160ce84",
   "metadata": {},
   "source": [
    "2023WS_41114"
   ]
  },
  {
   "cell_type": "markdown",
   "id": "17629612-8159-4708-9369-39b78c8b68ed",
   "metadata": {},
   "source": [
    "<h1><strong>Outline:</strong></h1>\n",
    "<ul>\n",
    "<li>Goal of the Assignment</li>\n",
    "<ul><li>Task 1</li>\n",
    "<li>Task 2</li>\n",
    "</ul>\n",
    "<li>Formula</li>\n",
    "<ul>\n",
    "<li>Usage</li>\n",
    "<li>Constants</li>\n",
    "<li>Parameters</li>\n",
    "</ul>\n",
    "<li>Python implementation</li>\n",
    "  <ul>  <li>Formula</li>\n",
    "      <li>Task 1</li>\n",
    "      <li>Task 2</li>\n",
    "  </ul>\n",
    "<li>References</li>"
   ]
  },
  {
   "cell_type": "markdown",
   "id": "101316ef-d479-4acb-8d70-3f848f066c3b",
   "metadata": {},
   "source": [
    "<h3>Goal </h3>\n",
    "<p>The goal of this assignment is to build on our knowledge of the first assignmet and use it in different situations.</p>\n",
    "<p>We also use significant figures to normalize our results.</p>"
   ]
  },
  {
   "cell_type": "markdown",
   "id": "3c325555-0978-4484-82c9-f026ac259692",
   "metadata": {},
   "source": [
    "<h3>Task 1 </h3>\n",
    "<p>We implement the Lennard-Jones Equation known from Assignment one and use it to determine the nonbound energy between two argon Atoms with the following distances:</p>\n",
    "<li>3.0Å</li>\n",
    "<li>3.4Å</li>\n",
    "<li>3.8Å</li>\n",
    "<li>4.2Å</li>\n",
    "<li>4.6Å</li>\n",
    "<li>5.0Å</li>\n",
    "\n",
    "<p>All those distances will be normalized to their corrosponding significant figures</p>"
   ]
  },
  {
   "cell_type": "markdown",
   "id": "4ed05bcf-7559-44c8-9690-6faa8ed9e9d0",
   "metadata": {},
   "source": [
    "<h3>Task 2 </h3>\n",
    "\n",
    "<p>We determine the lowest energy value and its corrosponmding distance from Task 1 using Python code automation</p>\n"
   ]
  },
  {
   "cell_type": "markdown",
   "id": "e73e9f0b-c83a-431f-91cd-1453b49438de",
   "metadata": {},
   "source": [
    "<h3>Formula [1]</h3>\n",
    "<h5>Usage</h5>\n",
    "<p>The Lennard-Jones equation is used to determine the nonbound Energy between two argon Atoms. It returns the a Value in electronvolts, which we convert to Joules for consistency</p>\n",
    "<h5>Constants</h5>\n",
    "<p>ε (eV): atom dependent Parameter</p>\n",
    "<p>σ (Å): atom dependent Parameter</p>\n",
    "<h5>Paramters</h5>\n",
    "<p>d (Å): distance between the two atoms</p>\n"
   ]
  },
  {
   "cell_type": "markdown",
   "id": "9bb59a7c-69aa-4eb9-978c-eb9e43885db2",
   "metadata": {},
   "source": [
    "<h3>Python Implementation</h3>"
   ]
  },
  {
   "cell_type": "markdown",
   "id": "1650f17a-829b-4cee-a2df-ebb655a51253",
   "metadata": {},
   "source": [
    "<h4>Formula</h4>"
   ]
  },
  {
   "cell_type": "code",
   "execution_count": 1,
   "id": "4fafac2a-53ec-481e-9cb4-619de0e62f01",
   "metadata": {},
   "outputs": [],
   "source": [
    "#define constants\n",
    "epsilon = 0.0103 \n",
    "sigma = 3.4"
   ]
  },
  {
   "cell_type": "code",
   "execution_count": 2,
   "id": "2413bc2c-e237-431b-9fa2-74e929e6cfe5",
   "metadata": {},
   "outputs": [],
   "source": [
    "def lennardJonesEquation(distance: float) -> float:\n",
    "    #only accepts float values\n",
    "    if not isinstance(distance, float):\n",
    "        raise TypeError('You did not specify an float for the distance')\n",
    "    resultinev = 4 * epsilon * ((sigma/distance) ** 12 - (sigma/distance) ** 6)\n",
    "    resultinJoule = resultinev * 1.6021766339e-19 #from ev to Joule [2]\n",
    "    return resultinJoule"
   ]
  },
  {
   "cell_type": "code",
   "execution_count": 3,
   "id": "ca76ad83-aabe-4d0b-9c5e-cbb70296b78a",
   "metadata": {},
   "outputs": [
    {
     "data": {
      "text/plain": [
       "-8.855544753548815e-22"
      ]
     },
     "execution_count": 3,
     "metadata": {},
     "output_type": "execute_result"
    }
   ],
   "source": [
    "#Example to show the function is working\n",
    "lennardJonesEquation(3.5)"
   ]
  },
  {
   "cell_type": "markdown",
   "id": "b827df46-7692-4a6c-bbfc-5c893ba213da",
   "metadata": {},
   "source": [
    "<h4>Task 1</h4>\n",
    "<p>Now that we have got the function to get the Lennard-Jones potential, we can use it to determine the potential energy of the distatnces given in Task 1</p>"
   ]
  },
  {
   "cell_type": "code",
   "execution_count": 4,
   "id": "d3183441-f893-46c5-b470-e00be20378bb",
   "metadata": {},
   "outputs": [],
   "source": [
    "#define distancelist\n",
    "distances = [3.0,3.4,3.8,4.2,4.6,5.0] "
   ]
  },
  {
   "cell_type": "code",
   "execution_count": 5,
   "id": "581f13e5-ae16-4782-ad76-abe89dba451f",
   "metadata": {},
   "outputs": [],
   "source": [
    "#Here we store the potential energies\n",
    "energies = []\n",
    "\n",
    "#Get the values\n",
    "for i in distances:\n",
    "    energies.append(lennardJonesEquation(i))\n"
   ]
  },
  {
   "cell_type": "markdown",
   "id": "2cdf4ab3-c09c-4b47-ae66-cb790d0c5969",
   "metadata": {},
   "source": [
    "<p>Now we have a list with all distances and their according potential</p>"
   ]
  },
  {
   "cell_type": "code",
   "execution_count": 6,
   "id": "34b371de-f261-4214-a155-3606176792a7",
   "metadata": {},
   "outputs": [
    {
     "name": "stdout",
     "output_type": "stream",
     "text": [
      "The potentail energy between two argon Atoms with the distance: 3.0 Å is 1.6e-20 Joule\n",
      "The potentail energy between two argon Atoms with the distance: 3.4 Å is 0.0 Joule\n",
      "The potentail energy between two argon Atoms with the distance: 3.8 Å is -1.6e-21 Joule\n",
      "The potentail energy between two argon Atoms with the distance: 4.2 Å is -1.3e-21 Joule\n",
      "The potentail energy between two argon Atoms with the distance: 4.6 Å is -9e-22 Joule\n",
      "The potentail energy between two argon Atoms with the distance: 5.0 Å is -5.9e-22 Joule\n"
     ]
    }
   ],
   "source": [
    "#print the distances and their potential\n",
    "for distance,joule in zip(distances,energies):\n",
    "    print(f'The potentail energy between two argon Atoms with the distance: {distance} Å is {joule:.2} Joule')"
   ]
  },
  {
   "cell_type": "markdown",
   "id": "3191bab5-c725-4634-8f38-809fa2df4ea5",
   "metadata": {},
   "source": [
    "<h4>Task 2</h4>\n",
    "<p>After we determined every energy to its according distance, we can get the lowest energy value with its corrosponding distance </p>"
   ]
  },
  {
   "cell_type": "code",
   "execution_count": 7,
   "id": "0017eeac-2393-47f6-81c4-337174354c07",
   "metadata": {},
   "outputs": [],
   "source": [
    "#determines the absolute minimum value [3]\n",
    "minimum = min(energies,key=abs)"
   ]
  },
  {
   "cell_type": "code",
   "execution_count": 8,
   "id": "421aadb9-246f-4735-86e9-c1272669e03b",
   "metadata": {},
   "outputs": [],
   "source": [
    "#tmpvalue to get the according distance\n",
    "indexofmin=energies.index(minimum)\n",
    "#according distance to the minenergy\n",
    "distance=distances[indexofmin]"
   ]
  },
  {
   "cell_type": "code",
   "execution_count": 9,
   "id": "941811ae-0717-450e-867d-6be32c7e65b9",
   "metadata": {
    "scrolled": true
   },
   "outputs": [
    {
     "name": "stdout",
     "output_type": "stream",
     "text": [
      "The lowest energy between two argon Atoms is 0.0 Joule and their distance is 3.4 Å\n"
     ]
    }
   ],
   "source": [
    " print(f'The lowest energy between two argon Atoms is {minimum} Joule and their distance is {distance} Å')"
   ]
  },
  {
   "cell_type": "markdown",
   "id": "4a5e4096-b030-46bb-b2f4-7c14cc237adc",
   "metadata": {},
   "source": [
    "<h3>References</h3>\n",
    "<ol>\n",
    "<li>Journal of Physics,C Y Maghfiroh, 2019, accessed October 2023 https://iopscience.iop.org/article/10.1088/1742-6596/1491/1/012022/pdf</li>\n",
    "<li>asutpp,Dmitry Makarov,2023,accessed October https://www.asutpp.com/ev-to-joules.html</li>\n",
    "<li>StackOverflow,Moses Koledoye,2017,accessed October 2023 https://stackoverflow.com/questions/44864633/pythonic-way-to-find-maximum-absolute-value-of-list</li>\n",
    "</ol>\n"
   ]
  }
 ],
 "metadata": {
  "kernelspec": {
   "display_name": "Python 3 (ipykernel)",
   "language": "python",
   "name": "python3"
  },
  "language_info": {
   "codemirror_mode": {
    "name": "ipython",
    "version": 3
   },
   "file_extension": ".py",
   "mimetype": "text/x-python",
   "name": "python",
   "nbconvert_exporter": "python",
   "pygments_lexer": "ipython3",
   "version": "3.12.0"
  }
 },
 "nbformat": 4,
 "nbformat_minor": 5
}
