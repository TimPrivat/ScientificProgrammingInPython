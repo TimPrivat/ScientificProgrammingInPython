{
 "cells": [
  {
   "cell_type": "markdown",
   "id": "2a990514-8306-42c7-b9e9-57be2a6ca531",
   "metadata": {},
   "source": [
    "2023WS_41114"
   ]
  },
  {
   "cell_type": "markdown",
   "id": "c755f24d-61a4-4006-afcf-813bcf36bd3d",
   "metadata": {},
   "source": [
    "<h1><strong>Assignement 6</strong></h1>"
   ]
  },
  {
   "cell_type": "markdown",
   "id": "7127e9ae-de0c-43e6-bfdf-253a5c53ce17",
   "metadata": {},
   "source": [
    "<h3>Goal</h3>\n",
    "In this assignment we use our knowledge in matplotlib[1], numpy[2] and pandas[3] to parse and compute environmental data captured by Canadas National Air Pollution Survaillance (NAPS)[4]. \n",
    "This data contains information about the hourly concentrations of ozone($O_{3}$) and nitrogen dioxide($NO_{2}$) recorded at five stations in hourly intervals.\n",
    "We will import and normalize this data and plot the result. After this we will create a prediction model to make predictions about future values[5]. And lastly we will compute the root-mean-square error[6] of the model we created, to see how close the predicted values are to the recorded ones."
   ]
  },
  {
   "cell_type": "markdown",
   "id": "7aaf94a6-53f7-4053-aa88-6d6c89317a97",
   "metadata": {},
   "source": [
    "<h3>Task 1</h3>\n",
    "In this task we parse the provided datasheets containing the recorded air pollution values. After this we merge all datasheets into one pandas dataframe."
   ]
  },
  {
   "cell_type": "markdown",
   "id": "0022c81a-82fe-46e6-b25d-63de78fa349f",
   "metadata": {},
   "source": [
    "<h4>Libraries</h4>\n",
    "<p>For this we first have to import the required python libraries:</p>"
   ]
  },
  {
   "cell_type": "code",
   "execution_count": 1,
   "id": "f64a2343-3097-49e1-8919-7d425968d587",
   "metadata": {},
   "outputs": [],
   "source": [
    "import matplotlib.pyplot as plt\n",
    "import numpy as np\n",
    "import pandas as pd"
   ]
  },
  {
   "cell_type": "markdown",
   "id": "05ef5b65-2a01-4456-9f0a-713e2c3e2480",
   "metadata": {},
   "source": [
    "<h4>Data import and normalization</h4>\n",
    "<p>Now we can import the data from Toronto2020_Station_1.csv, Toronto2020_Station_2.csv, Toronto2020_Station_3.csv, Toronto2020_Station_4.csv, Toronto2020_Station_5.csv. <br>\n",
    "For this we save all station names to a list labelled station_data_names. </p>"
   ]
  },
  {
   "cell_type": "code",
   "execution_count": 2,
   "id": "a7081bc9-d1d3-4239-be67-4625e09d5e68",
   "metadata": {},
   "outputs": [],
   "source": [
    "station_data_names = ['Toronto2020_Station_1.csv',\n",
    "              'Toronto2020_Station_2.csv',\n",
    "              'Toronto2020_Station_3.csv',\n",
    "              'Toronto2020_Station_4.csv',\n",
    "              'Toronto2020_Station_5.csv']"
   ]
  },
  {
   "cell_type": "markdown",
   "id": "bd8f863b-d700-4f90-8388-747f2cad23b8",
   "metadata": {},
   "source": [
    "<p>We read each of these .csv files and append their data to a list labelled combined_toronto_data.\n",
    "<br>\n",
    "This list shows the hourly recorded values for ozone($O_{3}$) and nitrogen dioxide($NO_{2}$) in parts-per-billion (ppb) for each of the five stations.</p>"
   ]
  },
  {
   "cell_type": "code",
   "execution_count": 3,
   "id": "40b79b2a-7d17-44e7-8a2e-6c206c5d2497",
   "metadata": {},
   "outputs": [
    {
     "data": {
      "text/plain": [
       "[                          Time  station 1 O3  station 1 NO2\n",
       " 0    2020-01-01 00:00:00+00:00          27.0            6.0\n",
       " 1    2020-01-01 01:00:00+00:00          27.0            6.0\n",
       " 2    2020-01-01 02:00:00+00:00          27.0            6.0\n",
       " 3    2020-01-01 03:00:00+00:00           NaN            NaN\n",
       " 4    2020-01-01 04:00:00+00:00          26.0            6.0\n",
       " ...                        ...           ...            ...\n",
       " 1435 2020-02-29 19:00:00+00:00          15.0           25.0\n",
       " 1436 2020-02-29 20:00:00+00:00           8.0           33.0\n",
       " 1437 2020-02-29 21:00:00+00:00           8.0           35.0\n",
       " 1438 2020-02-29 22:00:00+00:00          10.0           33.0\n",
       " 1439 2020-02-29 23:00:00+00:00           2.0           41.0\n",
       " \n",
       " [1440 rows x 3 columns],\n",
       "                           Time  station 2 O3  station 2 NO2\n",
       " 0    2020-01-01 00:00:00+00:00          27.0            7.0\n",
       " 1    2020-01-01 01:00:00+00:00          27.0            7.0\n",
       " 2    2020-01-01 02:00:00+00:00          28.0            6.0\n",
       " 3    2020-01-01 03:00:00+00:00          28.0            5.0\n",
       " 4    2020-01-01 04:00:00+00:00          29.0            5.0\n",
       " ...                        ...           ...            ...\n",
       " 1435 2020-02-29 19:00:00+00:00          28.0           16.0\n",
       " 1436 2020-02-29 20:00:00+00:00          20.0           24.0\n",
       " 1437 2020-02-29 21:00:00+00:00          19.0           24.0\n",
       " 1438 2020-02-29 22:00:00+00:00          13.0           32.0\n",
       " 1439 2020-02-29 23:00:00+00:00           6.0           43.0\n",
       " \n",
       " [1440 rows x 3 columns],\n",
       "                           Time  station 3 O3  station 3 NO2\n",
       " 0    2020-01-01 00:00:00+00:00          26.0            5.0\n",
       " 1    2020-01-01 01:00:00+00:00          26.0            5.0\n",
       " 2    2020-01-01 02:00:00+00:00          25.0            5.0\n",
       " 3    2020-01-01 03:00:00+00:00          26.0            5.0\n",
       " 4    2020-01-01 04:00:00+00:00          28.0            4.0\n",
       " ...                        ...           ...            ...\n",
       " 1435 2020-02-29 19:00:00+00:00          31.0           11.0\n",
       " 1436 2020-02-29 20:00:00+00:00          29.0           12.0\n",
       " 1437 2020-02-29 21:00:00+00:00          28.0           14.0\n",
       " 1438 2020-02-29 22:00:00+00:00          19.0           25.0\n",
       " 1439 2020-02-29 23:00:00+00:00          19.0           24.0\n",
       " \n",
       " [1440 rows x 3 columns],\n",
       "                           Time  station 4 O3  station 4 NO2\n",
       " 0    2020-01-01 00:00:00+00:00          23.0            9.0\n",
       " 1    2020-01-01 01:00:00+00:00          22.0           10.0\n",
       " 2    2020-01-01 02:00:00+00:00          24.0            9.0\n",
       " 3    2020-01-01 03:00:00+00:00          25.0            7.0\n",
       " 4    2020-01-01 04:00:00+00:00          27.0            4.0\n",
       " ...                        ...           ...            ...\n",
       " 1435 2020-02-29 19:00:00+00:00          20.0           26.0\n",
       " 1436 2020-02-29 20:00:00+00:00          12.0           34.0\n",
       " 1437 2020-02-29 21:00:00+00:00          10.0           34.0\n",
       " 1438 2020-02-29 22:00:00+00:00           9.0           37.0\n",
       " 1439 2020-02-29 23:00:00+00:00           3.0           46.0\n",
       " \n",
       " [1440 rows x 3 columns],\n",
       "                           Time  station 5 O3  station 5 NO2\n",
       " 0    2020-01-01 00:00:00+00:00            29            4.0\n",
       " 1    2020-01-01 01:00:00+00:00            28            5.0\n",
       " 2    2020-01-01 02:00:00+00:00            29            5.0\n",
       " 3    2020-01-01 03:00:00+00:00            27            6.0\n",
       " 4    2020-01-01 04:00:00+00:00            27            6.0\n",
       " ...                        ...           ...            ...\n",
       " 1435 2020-02-29 19:00:00+00:00            20           19.0\n",
       " 1436 2020-02-29 20:00:00+00:00            21           21.0\n",
       " 1437 2020-02-29 21:00:00+00:00            22           20.0\n",
       " 1438 2020-02-29 22:00:00+00:00            20           20.0\n",
       " 1439 2020-02-29 23:00:00+00:00            14           26.0\n",
       " \n",
       " [1440 rows x 3 columns]]"
      ]
     },
     "execution_count": 3,
     "metadata": {},
     "output_type": "execute_result"
    }
   ],
   "source": [
    "station_data = []\n",
    "\n",
    "for station in station_data_names:\n",
    "    station_df = pd.read_csv(station, parse_dates=['Time'])\n",
    "    station_data.append(station_df)\n",
    "station_data"
   ]
  },
  {
   "cell_type": "markdown",
   "id": "d4ae0494-cca6-44d2-844a-2379c7a01b3e",
   "metadata": {},
   "source": [
    "<p>After appending all files, we create a pandas dataframe labelled merged_dataframe. This dataframe merges all entries from the former list on their timestamp. This means that we now have a table organized by time, where each station's recordings are listed next to each other.</p>"
   ]
  },
  {
   "cell_type": "code",
   "execution_count": 4,
   "id": "7ad49e04-4cd0-4733-8ff0-cd08eee5825a",
   "metadata": {},
   "outputs": [
    {
     "data": {
      "text/html": [
       "<div>\n",
       "<style scoped>\n",
       "    .dataframe tbody tr th:only-of-type {\n",
       "        vertical-align: middle;\n",
       "    }\n",
       "\n",
       "    .dataframe tbody tr th {\n",
       "        vertical-align: top;\n",
       "    }\n",
       "\n",
       "    .dataframe thead th {\n",
       "        text-align: right;\n",
       "    }\n",
       "</style>\n",
       "<table border=\"1\" class=\"dataframe\">\n",
       "  <thead>\n",
       "    <tr style=\"text-align: right;\">\n",
       "      <th></th>\n",
       "      <th>Time</th>\n",
       "      <th>station 1 O3</th>\n",
       "      <th>station 1 NO2</th>\n",
       "      <th>station 2 O3</th>\n",
       "      <th>station 2 NO2</th>\n",
       "      <th>station 3 O3</th>\n",
       "      <th>station 3 NO2</th>\n",
       "      <th>station 4 O3</th>\n",
       "      <th>station 4 NO2</th>\n",
       "      <th>station 5 O3</th>\n",
       "      <th>station 5 NO2</th>\n",
       "    </tr>\n",
       "  </thead>\n",
       "  <tbody>\n",
       "    <tr>\n",
       "      <th>0</th>\n",
       "      <td>2020-01-01 00:00:00+00:00</td>\n",
       "      <td>27.0</td>\n",
       "      <td>6.0</td>\n",
       "      <td>27.0</td>\n",
       "      <td>7.0</td>\n",
       "      <td>26.0</td>\n",
       "      <td>5.0</td>\n",
       "      <td>23.0</td>\n",
       "      <td>9.0</td>\n",
       "      <td>29</td>\n",
       "      <td>4.0</td>\n",
       "    </tr>\n",
       "    <tr>\n",
       "      <th>1</th>\n",
       "      <td>2020-01-01 01:00:00+00:00</td>\n",
       "      <td>27.0</td>\n",
       "      <td>6.0</td>\n",
       "      <td>27.0</td>\n",
       "      <td>7.0</td>\n",
       "      <td>26.0</td>\n",
       "      <td>5.0</td>\n",
       "      <td>22.0</td>\n",
       "      <td>10.0</td>\n",
       "      <td>28</td>\n",
       "      <td>5.0</td>\n",
       "    </tr>\n",
       "    <tr>\n",
       "      <th>2</th>\n",
       "      <td>2020-01-01 02:00:00+00:00</td>\n",
       "      <td>27.0</td>\n",
       "      <td>6.0</td>\n",
       "      <td>28.0</td>\n",
       "      <td>6.0</td>\n",
       "      <td>25.0</td>\n",
       "      <td>5.0</td>\n",
       "      <td>24.0</td>\n",
       "      <td>9.0</td>\n",
       "      <td>29</td>\n",
       "      <td>5.0</td>\n",
       "    </tr>\n",
       "    <tr>\n",
       "      <th>3</th>\n",
       "      <td>2020-01-01 03:00:00+00:00</td>\n",
       "      <td>NaN</td>\n",
       "      <td>NaN</td>\n",
       "      <td>28.0</td>\n",
       "      <td>5.0</td>\n",
       "      <td>26.0</td>\n",
       "      <td>5.0</td>\n",
       "      <td>25.0</td>\n",
       "      <td>7.0</td>\n",
       "      <td>27</td>\n",
       "      <td>6.0</td>\n",
       "    </tr>\n",
       "    <tr>\n",
       "      <th>4</th>\n",
       "      <td>2020-01-01 04:00:00+00:00</td>\n",
       "      <td>26.0</td>\n",
       "      <td>6.0</td>\n",
       "      <td>29.0</td>\n",
       "      <td>5.0</td>\n",
       "      <td>28.0</td>\n",
       "      <td>4.0</td>\n",
       "      <td>27.0</td>\n",
       "      <td>4.0</td>\n",
       "      <td>27</td>\n",
       "      <td>6.0</td>\n",
       "    </tr>\n",
       "    <tr>\n",
       "      <th>...</th>\n",
       "      <td>...</td>\n",
       "      <td>...</td>\n",
       "      <td>...</td>\n",
       "      <td>...</td>\n",
       "      <td>...</td>\n",
       "      <td>...</td>\n",
       "      <td>...</td>\n",
       "      <td>...</td>\n",
       "      <td>...</td>\n",
       "      <td>...</td>\n",
       "      <td>...</td>\n",
       "    </tr>\n",
       "    <tr>\n",
       "      <th>1435</th>\n",
       "      <td>2020-02-29 19:00:00+00:00</td>\n",
       "      <td>15.0</td>\n",
       "      <td>25.0</td>\n",
       "      <td>28.0</td>\n",
       "      <td>16.0</td>\n",
       "      <td>31.0</td>\n",
       "      <td>11.0</td>\n",
       "      <td>20.0</td>\n",
       "      <td>26.0</td>\n",
       "      <td>20</td>\n",
       "      <td>19.0</td>\n",
       "    </tr>\n",
       "    <tr>\n",
       "      <th>1436</th>\n",
       "      <td>2020-02-29 20:00:00+00:00</td>\n",
       "      <td>8.0</td>\n",
       "      <td>33.0</td>\n",
       "      <td>20.0</td>\n",
       "      <td>24.0</td>\n",
       "      <td>29.0</td>\n",
       "      <td>12.0</td>\n",
       "      <td>12.0</td>\n",
       "      <td>34.0</td>\n",
       "      <td>21</td>\n",
       "      <td>21.0</td>\n",
       "    </tr>\n",
       "    <tr>\n",
       "      <th>1437</th>\n",
       "      <td>2020-02-29 21:00:00+00:00</td>\n",
       "      <td>8.0</td>\n",
       "      <td>35.0</td>\n",
       "      <td>19.0</td>\n",
       "      <td>24.0</td>\n",
       "      <td>28.0</td>\n",
       "      <td>14.0</td>\n",
       "      <td>10.0</td>\n",
       "      <td>34.0</td>\n",
       "      <td>22</td>\n",
       "      <td>20.0</td>\n",
       "    </tr>\n",
       "    <tr>\n",
       "      <th>1438</th>\n",
       "      <td>2020-02-29 22:00:00+00:00</td>\n",
       "      <td>10.0</td>\n",
       "      <td>33.0</td>\n",
       "      <td>13.0</td>\n",
       "      <td>32.0</td>\n",
       "      <td>19.0</td>\n",
       "      <td>25.0</td>\n",
       "      <td>9.0</td>\n",
       "      <td>37.0</td>\n",
       "      <td>20</td>\n",
       "      <td>20.0</td>\n",
       "    </tr>\n",
       "    <tr>\n",
       "      <th>1439</th>\n",
       "      <td>2020-02-29 23:00:00+00:00</td>\n",
       "      <td>2.0</td>\n",
       "      <td>41.0</td>\n",
       "      <td>6.0</td>\n",
       "      <td>43.0</td>\n",
       "      <td>19.0</td>\n",
       "      <td>24.0</td>\n",
       "      <td>3.0</td>\n",
       "      <td>46.0</td>\n",
       "      <td>14</td>\n",
       "      <td>26.0</td>\n",
       "    </tr>\n",
       "  </tbody>\n",
       "</table>\n",
       "<p>1440 rows × 11 columns</p>\n",
       "</div>"
      ],
      "text/plain": [
       "                          Time  station 1 O3  station 1 NO2  station 2 O3  \\\n",
       "0    2020-01-01 00:00:00+00:00          27.0            6.0          27.0   \n",
       "1    2020-01-01 01:00:00+00:00          27.0            6.0          27.0   \n",
       "2    2020-01-01 02:00:00+00:00          27.0            6.0          28.0   \n",
       "3    2020-01-01 03:00:00+00:00           NaN            NaN          28.0   \n",
       "4    2020-01-01 04:00:00+00:00          26.0            6.0          29.0   \n",
       "...                        ...           ...            ...           ...   \n",
       "1435 2020-02-29 19:00:00+00:00          15.0           25.0          28.0   \n",
       "1436 2020-02-29 20:00:00+00:00           8.0           33.0          20.0   \n",
       "1437 2020-02-29 21:00:00+00:00           8.0           35.0          19.0   \n",
       "1438 2020-02-29 22:00:00+00:00          10.0           33.0          13.0   \n",
       "1439 2020-02-29 23:00:00+00:00           2.0           41.0           6.0   \n",
       "\n",
       "      station 2 NO2  station 3 O3  station 3 NO2  station 4 O3  station 4 NO2  \\\n",
       "0               7.0          26.0            5.0          23.0            9.0   \n",
       "1               7.0          26.0            5.0          22.0           10.0   \n",
       "2               6.0          25.0            5.0          24.0            9.0   \n",
       "3               5.0          26.0            5.0          25.0            7.0   \n",
       "4               5.0          28.0            4.0          27.0            4.0   \n",
       "...             ...           ...            ...           ...            ...   \n",
       "1435           16.0          31.0           11.0          20.0           26.0   \n",
       "1436           24.0          29.0           12.0          12.0           34.0   \n",
       "1437           24.0          28.0           14.0          10.0           34.0   \n",
       "1438           32.0          19.0           25.0           9.0           37.0   \n",
       "1439           43.0          19.0           24.0           3.0           46.0   \n",
       "\n",
       "      station 5 O3  station 5 NO2  \n",
       "0               29            4.0  \n",
       "1               28            5.0  \n",
       "2               29            5.0  \n",
       "3               27            6.0  \n",
       "4               27            6.0  \n",
       "...            ...            ...  \n",
       "1435            20           19.0  \n",
       "1436            21           21.0  \n",
       "1437            22           20.0  \n",
       "1438            20           20.0  \n",
       "1439            14           26.0  \n",
       "\n",
       "[1440 rows x 11 columns]"
      ]
     },
     "execution_count": 4,
     "metadata": {},
     "output_type": "execute_result"
    }
   ],
   "source": [
    "merged_dataframe = station_data[0]\n",
    "for df in station_data[1:]:\n",
    "    merged_dataframe  = pd.merge(merged_dataframe , df, on='Time', how='outer')\n",
    "\n",
    "merged_dataframe ['Time'] = pd.to_datetime(df['Time'])\n",
    "merged_dataframe "
   ]
  },
  {
   "cell_type": "markdown",
   "id": "d5abb585-e93d-4ae3-8fc0-4182a494835a",
   "metadata": {},
   "source": [
    "<h3>Task 2</h3>\n",
    "<p>In task 2 we simplify our previously generated dataframe merged_dataframe, by calculating the hourly mean of each of the $O_{3}$ and $NO_{2}$ values. After that we smooth our results even further by computing a rolling average with a window of 24 hours. <br>\n",
    "Finally we plot our results using matplotlib.</p>\n"
   ]
  },
  {
   "cell_type": "markdown",
   "id": "4028e171-d03c-4dae-a9f5-e28d511f0a66",
   "metadata": {},
   "source": [
    "<h4>Calculating the mean values and rolling averages [7]</h4>\n",
    "<p>First we create a pandas dataframe where we store the time, the hourly mean of the $O_{3}$ concentration and the hourly mean of the $NO_{2}$ concentration. We again save the names of all colums to one list for $O_{3}$ values and one list for $NO_{2}$ values each.</p>"
   ]
  },
  {
   "cell_type": "code",
   "execution_count": 5,
   "id": "1025132d-6a91-4e3f-ac57-7dd53827e732",
   "metadata": {},
   "outputs": [],
   "source": [
    "hourly_data = pd.DataFrame(columns = ['Time','O3 mean/hour', 'NO2 mean/hour'])\n",
    "\n",
    "o3_columns = ['station 1 O3',\n",
    "              'station 2 O3',\n",
    "              'station 3 O3',\n",
    "              'station 4 O3',\n",
    "              'station 5 O3']\n",
    "no2_columns = ['station 1 NO2',\n",
    "              'station 2 NO2',\n",
    "              'station 3 NO2',\n",
    "              'station 4 NO2',\n",
    "              'station 5 NO2']"
   ]
  },
  {
   "cell_type": "markdown",
   "id": "126ead9d-c3b9-4994-9264-7b62838fbc70",
   "metadata": {},
   "source": [
    "<p>After that we iterate over each row in our merged_dataframe dataframe and calculate the mean of the $O_{3}$ and $NO_{2}$ concentration between all stations at each timestamp. We save this data to the dataframe hourly data.</p>"
   ]
  },
  {
   "cell_type": "code",
   "execution_count": 6,
   "id": "5cec8b73-4884-4c70-82f1-fd4b685e7e89",
   "metadata": {},
   "outputs": [
    {
     "data": {
      "text/html": [
       "<div>\n",
       "<style scoped>\n",
       "    .dataframe tbody tr th:only-of-type {\n",
       "        vertical-align: middle;\n",
       "    }\n",
       "\n",
       "    .dataframe tbody tr th {\n",
       "        vertical-align: top;\n",
       "    }\n",
       "\n",
       "    .dataframe thead th {\n",
       "        text-align: right;\n",
       "    }\n",
       "</style>\n",
       "<table border=\"1\" class=\"dataframe\">\n",
       "  <thead>\n",
       "    <tr style=\"text-align: right;\">\n",
       "      <th></th>\n",
       "      <th>Time</th>\n",
       "      <th>O3 mean/hour</th>\n",
       "      <th>NO2 mean/hour</th>\n",
       "    </tr>\n",
       "  </thead>\n",
       "  <tbody>\n",
       "    <tr>\n",
       "      <th>0</th>\n",
       "      <td>2020-01-01 00:00:00+00:00</td>\n",
       "      <td>26.4</td>\n",
       "      <td>6.20</td>\n",
       "    </tr>\n",
       "    <tr>\n",
       "      <th>1</th>\n",
       "      <td>2020-01-01 01:00:00+00:00</td>\n",
       "      <td>26.0</td>\n",
       "      <td>6.60</td>\n",
       "    </tr>\n",
       "    <tr>\n",
       "      <th>2</th>\n",
       "      <td>2020-01-01 02:00:00+00:00</td>\n",
       "      <td>26.6</td>\n",
       "      <td>6.20</td>\n",
       "    </tr>\n",
       "    <tr>\n",
       "      <th>3</th>\n",
       "      <td>2020-01-01 03:00:00+00:00</td>\n",
       "      <td>26.5</td>\n",
       "      <td>5.75</td>\n",
       "    </tr>\n",
       "    <tr>\n",
       "      <th>4</th>\n",
       "      <td>2020-01-01 04:00:00+00:00</td>\n",
       "      <td>27.4</td>\n",
       "      <td>5.00</td>\n",
       "    </tr>\n",
       "    <tr>\n",
       "      <th>...</th>\n",
       "      <td>...</td>\n",
       "      <td>...</td>\n",
       "      <td>...</td>\n",
       "    </tr>\n",
       "    <tr>\n",
       "      <th>1435</th>\n",
       "      <td>2020-02-29 19:00:00+00:00</td>\n",
       "      <td>22.8</td>\n",
       "      <td>19.40</td>\n",
       "    </tr>\n",
       "    <tr>\n",
       "      <th>1436</th>\n",
       "      <td>2020-02-29 20:00:00+00:00</td>\n",
       "      <td>18.0</td>\n",
       "      <td>24.80</td>\n",
       "    </tr>\n",
       "    <tr>\n",
       "      <th>1437</th>\n",
       "      <td>2020-02-29 21:00:00+00:00</td>\n",
       "      <td>17.4</td>\n",
       "      <td>25.40</td>\n",
       "    </tr>\n",
       "    <tr>\n",
       "      <th>1438</th>\n",
       "      <td>2020-02-29 22:00:00+00:00</td>\n",
       "      <td>14.2</td>\n",
       "      <td>29.40</td>\n",
       "    </tr>\n",
       "    <tr>\n",
       "      <th>1439</th>\n",
       "      <td>2020-02-29 23:00:00+00:00</td>\n",
       "      <td>8.8</td>\n",
       "      <td>36.00</td>\n",
       "    </tr>\n",
       "  </tbody>\n",
       "</table>\n",
       "<p>1440 rows × 3 columns</p>\n",
       "</div>"
      ],
      "text/plain": [
       "                          Time  O3 mean/hour  NO2 mean/hour\n",
       "0    2020-01-01 00:00:00+00:00          26.4           6.20\n",
       "1    2020-01-01 01:00:00+00:00          26.0           6.60\n",
       "2    2020-01-01 02:00:00+00:00          26.6           6.20\n",
       "3    2020-01-01 03:00:00+00:00          26.5           5.75\n",
       "4    2020-01-01 04:00:00+00:00          27.4           5.00\n",
       "...                        ...           ...            ...\n",
       "1435 2020-02-29 19:00:00+00:00          22.8          19.40\n",
       "1436 2020-02-29 20:00:00+00:00          18.0          24.80\n",
       "1437 2020-02-29 21:00:00+00:00          17.4          25.40\n",
       "1438 2020-02-29 22:00:00+00:00          14.2          29.40\n",
       "1439 2020-02-29 23:00:00+00:00           8.8          36.00\n",
       "\n",
       "[1440 rows x 3 columns]"
      ]
     },
     "execution_count": 6,
     "metadata": {},
     "output_type": "execute_result"
    }
   ],
   "source": [
    "for index, row in merged_dataframe.iterrows():\n",
    "    \n",
    "    time = row['Time']\n",
    "    o3_hourly_values = row[o3_columns].mean()\n",
    "    no2_hourly_values = row[no2_columns].mean()\n",
    "\n",
    "    hourly_data.loc[len(hourly_data)] = [time, o3_hourly_values, no2_hourly_values]\n",
    "    \n",
    "    \n",
    "hourly_data"
   ]
  },
  {
   "cell_type": "markdown",
   "id": "3d8c59ba-9e66-421b-916e-22875fb1276f",
   "metadata": {},
   "source": [
    "<p>Now that we have our dataframe with the hourly meanvalues, we want to smooth our results by implementing them as a rolling average. We use pandas builtin function .rolling() for this and select a timewindow of 24 hours.</p>"
   ]
  },
  {
   "cell_type": "code",
   "execution_count": 7,
   "id": "603bad15-4f7d-495c-bd72-230207bd8203",
   "metadata": {
    "scrolled": true
   },
   "outputs": [
    {
     "data": {
      "text/html": [
       "<div>\n",
       "<style scoped>\n",
       "    .dataframe tbody tr th:only-of-type {\n",
       "        vertical-align: middle;\n",
       "    }\n",
       "\n",
       "    .dataframe tbody tr th {\n",
       "        vertical-align: top;\n",
       "    }\n",
       "\n",
       "    .dataframe thead th {\n",
       "        text-align: right;\n",
       "    }\n",
       "</style>\n",
       "<table border=\"1\" class=\"dataframe\">\n",
       "  <thead>\n",
       "    <tr style=\"text-align: right;\">\n",
       "      <th></th>\n",
       "      <th>Time</th>\n",
       "      <th>O3 rolling average</th>\n",
       "      <th>NO2 rolling average</th>\n",
       "    </tr>\n",
       "  </thead>\n",
       "  <tbody>\n",
       "    <tr>\n",
       "      <th>0</th>\n",
       "      <td>2020-01-01 00:00:00+00:00</td>\n",
       "      <td>NaN</td>\n",
       "      <td>NaN</td>\n",
       "    </tr>\n",
       "    <tr>\n",
       "      <th>1</th>\n",
       "      <td>2020-01-01 01:00:00+00:00</td>\n",
       "      <td>NaN</td>\n",
       "      <td>NaN</td>\n",
       "    </tr>\n",
       "    <tr>\n",
       "      <th>2</th>\n",
       "      <td>2020-01-01 02:00:00+00:00</td>\n",
       "      <td>NaN</td>\n",
       "      <td>NaN</td>\n",
       "    </tr>\n",
       "    <tr>\n",
       "      <th>3</th>\n",
       "      <td>2020-01-01 03:00:00+00:00</td>\n",
       "      <td>NaN</td>\n",
       "      <td>NaN</td>\n",
       "    </tr>\n",
       "    <tr>\n",
       "      <th>4</th>\n",
       "      <td>2020-01-01 04:00:00+00:00</td>\n",
       "      <td>NaN</td>\n",
       "      <td>NaN</td>\n",
       "    </tr>\n",
       "    <tr>\n",
       "      <th>...</th>\n",
       "      <td>...</td>\n",
       "      <td>...</td>\n",
       "      <td>...</td>\n",
       "    </tr>\n",
       "    <tr>\n",
       "      <th>1435</th>\n",
       "      <td>2020-02-29 19:00:00+00:00</td>\n",
       "      <td>25.133333</td>\n",
       "      <td>12.391667</td>\n",
       "    </tr>\n",
       "    <tr>\n",
       "      <th>1436</th>\n",
       "      <td>2020-02-29 20:00:00+00:00</td>\n",
       "      <td>24.975000</td>\n",
       "      <td>12.675000</td>\n",
       "    </tr>\n",
       "    <tr>\n",
       "      <th>1437</th>\n",
       "      <td>2020-02-29 21:00:00+00:00</td>\n",
       "      <td>24.850000</td>\n",
       "      <td>12.925000</td>\n",
       "    </tr>\n",
       "    <tr>\n",
       "      <th>1438</th>\n",
       "      <td>2020-02-29 22:00:00+00:00</td>\n",
       "      <td>24.341667</td>\n",
       "      <td>13.591667</td>\n",
       "    </tr>\n",
       "    <tr>\n",
       "      <th>1439</th>\n",
       "      <td>2020-02-29 23:00:00+00:00</td>\n",
       "      <td>23.550000</td>\n",
       "      <td>14.616667</td>\n",
       "    </tr>\n",
       "  </tbody>\n",
       "</table>\n",
       "<p>1440 rows × 3 columns</p>\n",
       "</div>"
      ],
      "text/plain": [
       "                          Time  O3 rolling average  NO2 rolling average\n",
       "0    2020-01-01 00:00:00+00:00                 NaN                  NaN\n",
       "1    2020-01-01 01:00:00+00:00                 NaN                  NaN\n",
       "2    2020-01-01 02:00:00+00:00                 NaN                  NaN\n",
       "3    2020-01-01 03:00:00+00:00                 NaN                  NaN\n",
       "4    2020-01-01 04:00:00+00:00                 NaN                  NaN\n",
       "...                        ...                 ...                  ...\n",
       "1435 2020-02-29 19:00:00+00:00           25.133333            12.391667\n",
       "1436 2020-02-29 20:00:00+00:00           24.975000            12.675000\n",
       "1437 2020-02-29 21:00:00+00:00           24.850000            12.925000\n",
       "1438 2020-02-29 22:00:00+00:00           24.341667            13.591667\n",
       "1439 2020-02-29 23:00:00+00:00           23.550000            14.616667\n",
       "\n",
       "[1440 rows x 3 columns]"
      ]
     },
     "execution_count": 7,
     "metadata": {},
     "output_type": "execute_result"
    }
   ],
   "source": [
    "rolling_averages = pd.DataFrame()\n",
    "\n",
    "rolling_averages['Time'] = hourly_data['Time']\n",
    "rolling_averages['O3 rolling average']= hourly_data['O3 mean/hour'].rolling(window = 24, min_periods=None).mean()\n",
    "rolling_averages['NO2 rolling average']= hourly_data['NO2 mean/hour'].rolling(window = 24, min_periods=None).mean()\n",
    "\n",
    "rolling_averages"
   ]
  },
  {
   "cell_type": "markdown",
   "id": "b1f8869a-680b-42b8-a48e-5d2f9f703a5a",
   "metadata": {},
   "source": [
    "<h4>Plotting the results</h4>\n",
    "<p>Finally after having a complete and smoothened dataframe we can plot our results using matplotlib. Our plot shows the rolling averages of $O_{3}$ and $NO_{2}$ concentrations over time.</p>"
   ]
  },
  {
   "cell_type": "code",
   "execution_count": 8,
   "id": "f1ed373c-7e77-4d74-a4b4-408c394e5028",
   "metadata": {
    "scrolled": true
   },
   "outputs": [
    {
     "data": {
      "image/png": "[encoded data removed]",
      "text/plain": [
       "<Figure size 1000x300 with 1 Axes>"
      ]
     },
     "metadata": {},
     "output_type": "display_data"
    }
   ],
   "source": [
    "plt.figure(figsize=(10,3))\n",
    "plt.plot(rolling_averages['Time'], rolling_averages['O3 rolling average'], label='$O_{3}$ Rolling Average')\n",
    "plt.plot(rolling_averages['Time'], rolling_averages['NO2 rolling average'], label='$NO_{2}$ Rolling Average')\n",
    "\n",
    "plt.title('The rolling averages of $O_{3}$ and $NO_{2}$ concentrations over time')\n",
    "plt.xlabel('Time')\n",
    "plt.ylabel('Concentration Rolling Average')\n",
    "plt.legend()\n",
    "plt.grid(True)\n",
    "plt.tight_layout()\n",
    "\n",
    "\n",
    "plt.show()"
   ]
  },
  {
   "cell_type": "markdown",
   "id": "796b1442-cfa6-4968-be67-b78b8f287dd9",
   "metadata": {},
   "source": [
    "<h3>Task 3</h3>\n",
    "<p>In task 3 we create a 2-degree prediction model for the hourly mean of $NO_{2}$ and $O_{3}$ concentrations. It will take the $NO_{2}$ concentration and calculate the predicted $O_{3}$ concentration. We then compare the predicted data against the actual recorded data by plotting it. </p>"
   ]
  },
  {
   "cell_type": "markdown",
   "id": "264e30df-0ffe-4307-b2f6-9500c61b40c6",
   "metadata": {},
   "source": [
    "<h4>Calculating a 2-dimensional polynomial</h4>\n",
    "<p>To calculate a polynomial abstraction of our data we use numpy's builtin poly functions. To be able to use them they require a normalized dataset, where all empty values have been dropped.\n",
    "<br>\n",
    "We do this by calling pandas .dropna() function and using it on the $O_{3}$ and $NO_{2}$ hourly mean subsets.\n",
    "We then save each subset to an according numpy array labelled o3_data and no2_data. </p>"
   ]
  },
  {
   "cell_type": "code",
   "execution_count": 18,
   "id": "3a12ad9e-5384-4d35-b269-641c77d956e8",
   "metadata": {},
   "outputs": [],
   "source": [
    "hourly_data = hourly_data.dropna(subset = ['O3 mean/hour', 'NO2 mean/hour'])\n",
    "o3_data = hourly_data['O3 mean/hour'].values\n",
    "no2_data = hourly_data['NO2 mean/hour'].values"
   ]
  },
  {
   "cell_type": "markdown",
   "id": "e2cc5d75-d89f-42da-8e3b-7837b21286e3",
   "metadata": {},
   "source": [
    "<p>Now that we have our values in normalized numpy arrays, we can start constructing our polynomial functions. <br>\n",
    "We do this in two steps: The first step uses numpy's builtin function .polyfit() to determine the coefficients of our future polynom. For this we pass our no2_data and o3_data array and an integer to determine the future polynomials degree. In our case 2.</p>"
   ]
  },
  {
   "cell_type": "code",
   "execution_count": 19,
   "id": "9ee32ed1-cfec-4aa1-bc6c-97ce0f9a5990",
   "metadata": {},
   "outputs": [
    {
     "data": {
      "text/plain": [
       "array([ 8.31203725e-03, -1.17932792e+00,  3.69984290e+01])"
      ]
     },
     "execution_count": 19,
     "metadata": {},
     "output_type": "execute_result"
    }
   ],
   "source": [
    "coefficients = np.polyfit(no2_data, o3_data, 2)\n",
    "coefficients"
   ]
  },
  {
   "cell_type": "markdown",
   "id": "77a6fd6c-28c7-4eb5-a20b-efb2aafdaaf8",
   "metadata": {},
   "source": [
    "<p>After calculating our coefficients we can calculate our polynomial equation. We do this by using numpy's builtin function .poly1d(). It uses our calculated coefficients and parses them into a in python usable polynomial function we label polynomial.</p>"
   ]
  },
  {
   "cell_type": "code",
   "execution_count": 26,
   "id": "ead90d0c-53bf-4c2e-92d2-871c109d4bc5",
   "metadata": {},
   "outputs": [
    {
     "name": "stdout",
     "output_type": "stream",
     "text": [
      "We receive the polynomial equation:\n",
      "           2\n",
      "0.008312 x - 1.179 x + 37\n"
     ]
    }
   ],
   "source": [
    "polynomial = np.poly1d(coefficients)\n",
    "\n",
    "print(f'We receive the polynomial equation:\\n {polynom}')"
   ]
  },
  {
   "cell_type": "markdown",
   "id": "9506d606-ad9d-4860-af39-8453618206a3",
   "metadata": {},
   "source": [
    "<p>With x = $NO_{2}$, we receive the following polynomial equation:\n",
    "</p>\n",
    "$$O_{3}(x)=0.008312x^2-1.179x+37$$"
   ]
  },
  {
   "cell_type": "markdown",
   "id": "2328bece-6eee-4e2c-ace1-8cbcebca124e",
   "metadata": {},
   "source": [
    "<p>Now that we have our polynomial function we can compute values with it and make approximations of $O_{3}$ values.<br>\n",
    "We use the registered $NO_{2}$ values from the provided datasheets and compute them with our polynomial and receive a numpyarray of approximated $O_{3}$ values.</p>"
   ]
  },
  {
   "cell_type": "code",
   "execution_count": 33,
   "id": "9eb472a1-7699-4601-b5b8-f4a2ff86512d",
   "metadata": {},
   "outputs": [
    {
     "data": {
      "text/plain": [
       "array([30.00611066, 29.57693712, 30.00611066, ..., 12.40609384,\n",
       "        9.51078073,  5.31502422])"
      ]
     },
     "execution_count": 33,
     "metadata": {},
     "output_type": "execute_result"
    }
   ],
   "source": [
    "predicted_o3_values = polynomial(no2_data)\n",
    "predicted_o3_values"
   ]
  },
  {
   "cell_type": "markdown",
   "id": "96668ce7-d435-45fc-a3d5-df46cbb37133",
   "metadata": {},
   "source": [
    "<h4>Plotting the results</h4>\n",
    "<p>After receiving the numpyarray we can plot our results by using matplotlib.<br>\n",
    "We use a scatterplot to display the actual recorded data and overlay it with our calculated polynomial curve to see how close the approximation is.\n",
    "</p>"
   ]
  },
  {
   "cell_type": "code",
   "execution_count": 34,
   "id": "f0bab3f1-6cf9-42b0-8171-f295119cd3ea",
   "metadata": {
    "scrolled": true
   },
   "outputs": [
    {
     "data": {
      "image/png": "[encoded data removed]",
      "text/plain": [
       "<Figure size 1000x200 with 1 Axes>"
      ]
     },
     "metadata": {},
     "output_type": "display_data"
    }
   ],
   "source": [
    "plt.figure(figsize=(10,2))\n",
    "plt.scatter(no2_data, o3_data, label='$NO_{2}$ vs $O_{3}$', color='blue', alpha=0.7)\n",
    "plt.plot(no2_data, predicted_o3_values, label='Polynomial Curve', color='red', linestyle='--')\n",
    "plt.title('Comparison between predicted and registered $NO_{2}$ and $O_{3}$ correlation')\n",
    "plt.xlabel('$NO_{2}$ in ppb')\n",
    "plt.ylabel('$O_{3}$ in ppb')\n",
    "plt.legend()\n",
    "plt.grid(True)\n",
    "\n",
    "plt.show()"
   ]
  },
  {
   "cell_type": "markdown",
   "id": "0a27dbeb-7902-437f-a1c4-4b415a6f22cb",
   "metadata": {},
   "source": [
    "<h3>Task 4</h3>\n",
    "<p>In Task 4 we implement a python function that computes the root-mean-square error between our experimental and theoretical values. We then compute our values to judge how accurate our polynomial is.</p>"
   ]
  },
  {
   "cell_type": "markdown",
   "id": "28666b0e-c7c9-4dc5-8128-97b336913e16",
   "metadata": {},
   "source": [
    "<h4>Definition Root-Mean-Square Error</h4>\n",
    "<p>A root-mean-square error is a value that states how close a apporximated polynomial is to the actual data.<br>\n",
    "It is defined as follows:</p>"
   ]
  },
  {
   "cell_type": "markdown",
   "id": "69496d51-228d-4983-b295-092b3d3f1280",
   "metadata": {},
   "source": [
    "$$RMSE=\\sqrt{\\frac{1}{n} \\sum_{i=1}^{n} \\left( X_i (\\text{Theoretical}) - Y_i (\\text{Experiment}) \\right)^2}$$"
   ]
  },
  {
   "cell_type": "markdown",
   "id": "5e607ea0-bc2b-43a4-b9ca-b39f326ab59e",
   "metadata": {},
   "source": [
    "<p>The closer the root-mean-square error is to zero the more accurate the polynomial used to calculate the theoretical values is.</p>"
   ]
  },
  {
   "cell_type": "markdown",
   "id": "a9874b57-32c6-4952-af35-bf47c0522597",
   "metadata": {},
   "source": [
    "<h4>Python implementation</h4>\n",
    "<p>We implement the function as follows:</p>"
   ]
  },
  {
   "cell_type": "code",
   "execution_count": 28,
   "id": "784ce0cb-28f4-47d2-b1c6-0469746949e6",
   "metadata": {},
   "outputs": [],
   "source": [
    "def root_mean_square_error(theoreticalValues: np.ndarray, experimentalValues: np.ndarray):\n",
    "    \"\"\"This funciton calculates the root-mean-square error between two provided numpy arrays.\n",
    "        The first array holds the theoretical calculated values and the other one the real\n",
    "        experimental values.\n",
    "    :param theoreticalValues: np.ndarray, array of theoretical values that were generated by using\n",
    "                               a polynomial function \n",
    "    :param experimentalValues: np.ndarray, array of experimental values that were obtained, by \n",
    "                               measuring in a real world experiment.\n",
    "    \n",
    "    :return: float, the root-mean-square error between the two provided numpy arrays\n",
    "                    it can be used to judge how accurate the polynomial that generated the\n",
    "                    theoretical values is.\n",
    "    \"\"\"\n",
    "    #Typechecks\n",
    "    if not isinstance(theoreticalValues, np.ndarray):\n",
    "        raise TypeError('You must provide theoreticalValues as a numpy.ndarray')\n",
    "    elif not isinstance(theoreticalValues, np.ndarray):\n",
    "        raise TypeError('You must provide theoreticalValues as a numpy.ndarray')\n",
    "    else:\n",
    "        values = 0\n",
    "        values_length=len(theoreticalValues)\n",
    "        for i in range(0,values_length ):\n",
    "            values += (theoreticalValues[i] - experimentalValues[i])**2\n",
    "           \n",
    "    return (1/values_length * values)**0.5"
   ]
  },
  {
   "cell_type": "markdown",
   "id": "a8773e51-bd9f-474e-bc47-9d825ad2929e",
   "metadata": {},
   "source": [
    "<h4>Calculating the Root-Mean-Square Error</h4>\n",
    "<p>Now that we have a working python implementation to calcuate the root-mean-square error we can calculate it seperately for every stationdata.\n",
    "<br> \n",
    "We do this by normalizing our pandas dataframe merged_dataframe which holds all stationdata in seperate columns and iterating over each column and calculating the root-mean-square error:</p>"
   ]
  },
  {
   "cell_type": "code",
   "execution_count": 36,
   "id": "a18b876e-cf9f-4b4c-a607-e9827371cab3",
   "metadata": {},
   "outputs": [
    {
     "name": "stdout",
     "output_type": "stream",
     "text": [
      "The root-mean-square error between our calculated polynomial function and the recorded data of station 1 is: 4.993479063403626 ppb.\n",
      "The root-mean-square error between our calculated polynomial function and the recorded data of station 2 is: 5.216227303444568 ppb.\n",
      "The root-mean-square error between our calculated polynomial function and the recorded data of station 3 is: 5.064567965779078 ppb.\n",
      "The root-mean-square error between our calculated polynomial function and the recorded data of station 4 is: 5.361799288276782 ppb.\n",
      "The root-mean-square error between our calculated polynomial function and the recorded data of station 5 is: 5.21082683170303 ppb.\n",
      "\n",
      "The average root-mean-square error between our calculated polynomial and all 5 stations is: 5.169380090521417 ppb.\n"
     ]
    }
   ],
   "source": [
    "merged_dataframe = merged_dataframe.dropna(ignore_index=True)\n",
    "average_rmse = 0\n",
    "for i in range(1,6):\n",
    "    o3_values = polynomial(merged_dataframe['station '+str(i)+ ' NO2'])\n",
    "    rmse = root_mean_square_error(o3_values,merged_dataframe['station '+str(i)+' O3'].values)\n",
    "    average_rmse += rmse\n",
    "    print(f'The root-mean-square error between our calculated polynomial '\\\n",
    "          f'function and the recorded data of station {str(i)} is: {rmse} ppb.')\n",
    "\n",
    "print(f'\\nThe average root-mean-square error between our calculated polynomial' \\\n",
    "      f' and all 5 stations is: {average_rmse/5} ppb.')"
   ]
  },
  {
   "cell_type": "markdown",
   "id": "41771dbd-ffa7-4bea-a503-13573f9e81b7",
   "metadata": {},
   "source": [
    "<h3>Conclusion</h3>\n",
    "<p>\n",
    "With an average root-mean-square error of about 5.12 $O_{3}$ ppb our polynomial is reasonably accurate to apporixmate either missing or future values. It shouldn't be used as clear data because especially future data can change a lot due to external factors like human influence on the environment. But it can be used to approximate a general trend and for abstraction in calculations like ours.\n",
    "    \n",
    "In this assignment we refined our knowledge of the python libraries pandas, matplotlib and numpy. We learned how to calculate polynomial equations from a given dataset and how to calculate the Root-Mean-Square Error to judge how accurate the resulting polynomial is.\n",
    "</p>"
   ]
  },
  {
   "cell_type": "markdown",
   "id": "b88bb12a-46ed-4a6d-a06b-d4756821ca9e",
   "metadata": {
    "jp-MarkdownHeadingCollapsed": true
   },
   "source": [
    "<h3>References</h3>\n",
    "<ol>\n",
    "<li>\n",
    "J. D. Hunter, \"Matplotlib: A 2D Graphics Environment\", Computing in Science & Engineering, vol. 9, no. 3, pp. 90-95, 2007\n",
    "</li>\n",
    "<li>\n",
    "Harris, C.R., Millman, K.J., van der Walt, S.J. et al. Array programming with NumPy. Nature 585, 357–362,2020    \n",
    "</li>\n",
    "<li>\n",
    "McKinney, Proceedings of the 9th Python in Science Conference, Volume 445, 2010 (https://conference.scipy.org/proceedings/scipy2010/pdfs/mckinney.pdf)\n",
    "</li>\n",
    "<li>\n",
    "Environment and Climate Change Canada, \"National Air Pollution Surveillance (NAPS) Program\". Available at https://data-donnees.az.ec.gc.ca/data/air/monitor/national-air-pollution-surveillance-naps-program. Accessed on January 20, 2024.\n",
    "</li>\n",
    "<li>\n",
    "Stack Overflow Contributers, \"Determine the type of an object? [duplicate]\". Available at https://stackoverflow.com/questions/2225038/determine-the-type-of-an-object. Accessed on January 20, 2024.\n",
    "</li>\n",
    "<li>\n",
    "Wikipedia Contributers, \"Root-mean-square deviation\". Available at https://en.wikipedia.org/wiki/Root-mean-square_deviation. Accessed on January 20, 2024.\n",
    "</li>\n",
    "<li>\n",
    "Wikipedia Contributers, \"Moving average\", Available at https://en.wikipedia.org/wiki/Moving_average.\n",
    "Accessed on January 20, 2024.\n",
    "</li>\n",
    "<li>\n",
    "[Python3] Van Rossum, G. & Drake, F.L., 2009. Python 3 Reference Manual, Scotts Valley, CA: CreateSpace.\n",
    "</li>\n",
    "<li>[Jupyter Notebook] Kluyver, T. et al., 2016. Jupyter Notebooks – a publishing format for reproducible computational workflows. In F. Loizides & B. Schmidt, eds. Positioning and Power in Academic Publishing: Players, Agents and Agendas. pp. 87–90.\n",
    "</li>\n",
    "<li>\n",
    "[Initial Assignment] Professor Karl N. Kirschner January 8, 2024. assignment.pdf. Available at https://lea.hochschule-bonn-rhein-sieg.de/ilias.php?ref_id=1502808&file=assignment.pdf&ass_id=42861&cmd=downloadFile&cmdClass=ilexsubmissiongui&cmdNode=bk:nw:c0&baseClass=ilExerciseHandlerGUI. Accessed on January 20, 2024.\n",
    "</li>"
   ]
  }
 ],
 "metadata": {
  "kernelspec": {
   "display_name": "Python 3 (ipykernel)",
   "language": "python",
   "name": "python3"
  },
  "language_info": {
   "codemirror_mode": {
    "name": "ipython",
    "version": 3
   },
   "file_extension": ".py",
   "mimetype": "text/x-python",
   "name": "python",
   "nbconvert_exporter": "python",
   "pygments_lexer": "ipython3",
   "version": "3.12.0"
  }
 },
 "nbformat": 4,
 "nbformat_minor": 5
}
